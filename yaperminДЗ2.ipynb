{
 "cells": [
  {
   "cell_type": "markdown",
   "metadata": {},
   "source": [
    "# Базовая часть"
   ]
  },
  {
   "cell_type": "markdown",
   "metadata": {},
   "source": [
    "Рассмотрим задание 2 из лекции. При анализе отзывов на работу техподдержки вы считали массив из отзывов (для простоты отзыва приведено всего два, но могло быть и больше):"
   ]
  },
  {
   "cell_type": "code",
   "execution_count": 2,
   "metadata": {
    "collapsed": true
   },
   "outputs": [],
   "source": [
    "reviews = [\"\"\"Телефон абонента: +7 916 000 00 01\n",
    "Время: 10:34\n",
    "Дата: 20.05.2017\n",
    "Оценка: 1\n",
    "Длительность разговора (мин.): 0:32\n",
    "Комментарий: Общение с сотрудником вашей техподдержки мне не понравилось. Раньше всегда отвечала девушка с приятным голосом, а сегодня какой-то мужчина. Совсем никуда не годится, примите меры!!!\"\"\",\n",
    "\"\"\"Телефон абонента: +7 916 000 00 02\n",
    "Время: 9:20\n",
    "Дата: 21.05.2017\n",
    "Оценка: 5\n",
    "Длительность разговора (мин.): 25:07\n",
    "Комментарий: С моей проблемой мне помогли, большое спасибо!\"\"\"]"
   ]
  },
  {
   "cell_type": "markdown",
   "metadata": {},
   "source": [
    "Сформируйте на основе этого массива словарь my_base, в котором по ключу в виде строки с телефоном абонента будет храниться другой словарь. Внутренний словарь по ключам в виде названий полей отзыва должен хранить значение полей (в виде строк). Например, код ниже должен выдать True:"
   ]
  },
  {
   "cell_type": "code",
   "execution_count": 5,
   "metadata": {
    "collapsed": true
   },
   "outputs": [],
   "source": [
    "my_base = dict()\n",
    "\n",
    "for i in range(2):\n",
    "    s = str(reviews[i])\n",
    "    for line in s.split('\\n'):\n",
    "        if line.find('+7') <> -1:\n",
    "            splitted_line = line.split(': ')\n",
    "            dict_key = splitted_line[1]\n",
    "            tmp_dict = dict()\n",
    "        else:\n",
    "            splitted_line = line.split(': ')\n",
    "            field_name = splitted_line[0]\n",
    "            field_value = splitted_line[1]\n",
    "            tmp_dict[field_name] = field_value\n",
    "            my_base[dict_key] = tmp_dict   "
   ]
  },
  {
   "cell_type": "code",
   "execution_count": 6,
   "metadata": {
    "collapsed": false
   },
   "outputs": [
    {
     "data": {
      "text/plain": [
       "True"
      ]
     },
     "execution_count": 6,
     "metadata": {},
     "output_type": "execute_result"
    }
   ],
   "source": [
    "my_base['+7 916 000 00 01']['Дата'] == '20.05.2017'"
   ]
  },
  {
   "cell_type": "markdown",
   "metadata": {},
   "source": [
    "Обратите внимание, что вам могут немного мешать пробелы после знаков \":\""
   ]
  },
  {
   "cell_type": "markdown",
   "metadata": {},
   "source": [
    "# Продвинутая часть"
   ]
  },
  {
   "cell_type": "markdown",
   "metadata": {},
   "source": [
    "Попробуйте выполнить предыдущее задание, но теперь обеспечив хранение полей из отзыва в словаре в тех типах данных, которые на ваш взгляд наиболее уместны. Подумайте, что делать с датой и временем. Возможно вам покажется полезным немного воспользоваться поисковиком или документацией к Python, а может быть вам хватит стандартных типов данных.\n",
    "Объясните свой выбор в комментариях к коду или markdown ячейках и продемонстрируйте, что поля имеют нужный тип."
   ]
  },
  {
   "cell_type": "code",
   "execution_count": 7,
   "metadata": {
    "collapsed": false
   },
   "outputs": [
    {
     "name": "stdout",
     "output_type": "stream",
     "text": [
      "my_base[+7 916 000 00 01][Время] <type 'datetime.datetime'>\n",
      "my_base[+7 916 000 00 01][Дата] <type 'datetime.datetime'>\n",
      "my_base[+7 916 000 00 01][Оценка] <type 'int'>\n",
      "my_base[+7 916 000 00 01][Длительность разговора (мин.)] <type 'datetime.datetime'>\n",
      "my_base[+7 916 000 00 01][Комментарий] <type 'str'>\n",
      "my_base[+7 916 000 00 02][Время] <type 'datetime.datetime'>\n",
      "my_base[+7 916 000 00 02][Дата] <type 'datetime.datetime'>\n",
      "my_base[+7 916 000 00 02][Оценка] <type 'int'>\n",
      "my_base[+7 916 000 00 02][Длительность разговора (мин.)] <type 'datetime.datetime'>\n",
      "my_base[+7 916 000 00 02][Комментарий] <type 'str'>\n"
     ]
    }
   ],
   "source": [
    "import time\n",
    "from datetime import datetime\n",
    "\n",
    "for i in range(2):\n",
    "    s = str(reviews[i])\n",
    "    for line in s.split('\\n'):\n",
    "        if line.find('+7') <> -1:\n",
    "            splitted_line = line.split(': ')\n",
    "            dict_key = splitted_line[1]\n",
    "            \n",
    "            tmp_dict = dict()\n",
    "        else:\n",
    "            splitted_line = line.split(': ')\n",
    "            field_name = splitted_line[0]\n",
    "            if field_name == 'Оценка':\n",
    "                field_value = int(splitted_line[1])\n",
    "            elif field_name == 'Время':\n",
    "                field_value = datetime.strptime(splitted_line[1], \"%H:%S\")\n",
    "            elif field_name == 'Дата':\n",
    "                field_value = datetime.strptime(splitted_line[1], \"%d.%m.%Y\")\n",
    "            elif field_name == 'Длительность разговора (мин.)':\n",
    "                field_value = datetime.strptime(splitted_line[1], \"%M:%S\")                \n",
    "            else:\n",
    "                field_value = str(splitted_line[1])\n",
    "            \n",
    "            print 'my_base' + '[' + dict_key + ']' + '[' + field_name + ']', type(field_value)\n",
    "            \n",
    "            tmp_dict[field_name] = field_value\n",
    "            my_base[dict_key] = tmp_dict"
   ]
  },
  {
   "cell_type": "markdown",
   "metadata": {},
   "source": [
    "1) для поля \"Оценка\" подойдет формат int, т.к. оценка от 1 до 5\n",
    "\n",
    "2) для полей \"Время\", \"Дата\", \"Длительность разговора (мин.)\" использовал формат datetime.\n",
    "   для вывода полей по порядку нужно выполнять, непример:\n",
    "    print my_base['+7 916 000 00 01']['Время'].strftime(\"%H:%M\")\n",
    "    \n",
    "    print my_base['+7 916 000 00 01']['Дата'].strftime(\"%d.%m.%Y\")\n",
    "    \n",
    "    print my_base['+7 916 000 00 01']['Длительность разговора (мин.)'].strftime(\"%M:%S\")\n",
    "    \n",
    "    Формат удобен тем, что можно выпонять различные операции над данными, но не придумал, как заполнить правильно. По идее, нужно было взять одну переменную с датой и временем и  использовать для полей \"Время\", \"Дата\". Вторую с датой и временем разговора для поля \"Длительность разговора (мин.)\".\n",
    "    \n",
    "3) для остальных полей (пока только поле \"Комментарий\") используем str"
   ]
  },
  {
   "cell_type": "markdown",
   "metadata": {},
   "source": [
    "# Сложная часть"
   ]
  },
  {
   "cell_type": "markdown",
   "metadata": {},
   "source": [
    "На лекции было рассказано про неизменяемые типы, в частности про tuple. Подумайте, можно ли \"сломать\" неизменяемость tuple? Как сделать tuple изменяемым? Можно ли будет его добавить в множество или использовать в качестве ключа в словаре?"
   ]
  },
  {
   "cell_type": "code",
   "execution_count": null,
   "metadata": {
    "collapsed": true
   },
   "outputs": [],
   "source": []
  }
 ],
 "metadata": {
  "anaconda-cloud": {},
  "kernelspec": {
   "display_name": "Python 2",
   "language": "python",
   "name": "python2"
  },
  "language_info": {
   "codemirror_mode": {
    "name": "ipython",
    "version": 2
   },
   "file_extension": ".py",
   "mimetype": "text/x-python",
   "name": "python",
   "nbconvert_exporter": "python",
   "pygments_lexer": "ipython2",
   "version": "2.7.13"
  }
 },
 "nbformat": 4,
 "nbformat_minor": 1
}
