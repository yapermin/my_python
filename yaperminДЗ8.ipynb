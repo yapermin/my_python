{
 "cells": [
  {
   "cell_type": "markdown",
   "metadata": {},
   "source": [
    "# Задание 8 (финальное)"
   ]
  },
  {
   "cell_type": "markdown",
   "metadata": {},
   "source": [
    "В этом задании Вам предлагается сделать несколько несложных упражнений с упомянутыми на лекции библиотеками, а также потренироваться использовать документацию к новым для Вас библиотекам, чтобы почувствовать, что теперь Вы сами можете продолжить свое знакомство с Питоном, осваивая новые инструменты."
   ]
  },
  {
   "cell_type": "markdown",
   "metadata": {},
   "source": [
    "## 1. Базовый уровень: задание по numpy и scipy"
   ]
  },
  {
   "cell_type": "markdown",
   "metadata": {},
   "source": [
    "1. Напишите свой аналог np.linspace с использованием цикла и с использованием list comprehension. Сравните все три варианта по производительности\n",
    "1. Сравните по производительности основные операции с массивами (array) numpy и с list\n",
    "1. Попробуйте поменять метод оптимизации в примере решения оптимизационной задачи с помощью scipy.optimize, показанном на лекции (для этого потребуется обратиться к документации). Подберите метод с наименьшим количеством вычислений функции. Начальное приближение (точку [5,5]) оставьте тем же."
   ]
  },
  {
   "cell_type": "markdown",
   "metadata": {},
   "source": [
    "### Выполнение 1. пункт 1."
   ]
  },
  {
   "cell_type": "code",
   "execution_count": 1,
   "metadata": {
    "collapsed": true
   },
   "outputs": [],
   "source": [
    "import numpy as np"
   ]
  },
  {
   "cell_type": "code",
   "execution_count": 2,
   "metadata": {
    "collapsed": false
   },
   "outputs": [
    {
     "data": {
      "text/plain": [
       "array([ 2. ,  2.2,  2.4,  2.6,  2.8])"
      ]
     },
     "execution_count": 2,
     "metadata": {},
     "output_type": "execute_result"
    }
   ],
   "source": [
    "np.linspace (2.0, 3.0, num = 5, endpoint=False)"
   ]
  },
  {
   "cell_type": "code",
   "execution_count": 3,
   "metadata": {
    "collapsed": true
   },
   "outputs": [],
   "source": [
    "# аналог linspace с циклом for, но без параметра retstep \n",
    "def linspace_for(start_p, end_p, num=50, endpoint=True):\n",
    "    if endpoint == False:\n",
    "        step = (float(end_p) - start_p)/num\n",
    "    else:\n",
    "        step = (float(end_p) - start_p)/(num - 1)\n",
    "    result = []\n",
    "    elem = start_p\n",
    "    for i in range(0,num,1):\n",
    "        result.append(round(elem,8))\n",
    "        elem += step\n",
    "    return result"
   ]
  },
  {
   "cell_type": "code",
   "execution_count": 4,
   "metadata": {
    "collapsed": false
   },
   "outputs": [
    {
     "data": {
      "text/plain": [
       "[2.0, 2.2, 2.4, 2.6, 2.8]"
      ]
     },
     "execution_count": 4,
     "metadata": {},
     "output_type": "execute_result"
    }
   ],
   "source": [
    "linspace_for(2.0, 3.0, num = 5, endpoint=False)"
   ]
  },
  {
   "cell_type": "code",
   "execution_count": 5,
   "metadata": {
    "collapsed": true
   },
   "outputs": [],
   "source": [
    "# аналог linspace с циклом list comprehension, но без параметра retstep \n",
    "def linspace_list_comprehension(start_p, end_p, num=50, endpoint=True):\n",
    "    if endpoint == False:\n",
    "        step = (float(end_p) - start_p)/num\n",
    "    else:\n",
    "        step = (float(end_p) - start_p)/(num - 1)\n",
    "    elem = start_p    \n",
    "    return [i*step+elem for i in range(0,num,1)]"
   ]
  },
  {
   "cell_type": "code",
   "execution_count": 6,
   "metadata": {
    "collapsed": false
   },
   "outputs": [
    {
     "data": {
      "text/plain": [
       "[2.0, 2.2, 2.4, 2.6, 2.8]"
      ]
     },
     "execution_count": 6,
     "metadata": {},
     "output_type": "execute_result"
    }
   ],
   "source": [
    "linspace_list_comprehension(2.0, 3.0, num = 5, endpoint=False)"
   ]
  },
  {
   "cell_type": "code",
   "execution_count": 7,
   "metadata": {
    "collapsed": false
   },
   "outputs": [
    {
     "name": "stdout",
     "output_type": "stream",
     "text": [
      "The slowest run took 8.23 times longer than the fastest. This could mean that an intermediate result is being cached.\n",
      "100000 loops, best of 3: 4.65 µs per loop\n",
      "10000 loops, best of 3: 48.2 µs per loop\n",
      "100000 loops, best of 3: 5.65 µs per loop\n"
     ]
    }
   ],
   "source": [
    "%timeit np.linspace(0, 10000)\n",
    "%timeit linspace_for(0, 10000)\n",
    "%timeit linspace_list_comprehension(0, 10000)"
   ]
  },
  {
   "cell_type": "code",
   "execution_count": 8,
   "metadata": {
    "collapsed": false
   },
   "outputs": [
    {
     "name": "stdout",
     "output_type": "stream",
     "text": [
      "The slowest run took 9.81 times longer than the fastest. This could mean that an intermediate result is being cached.\n",
      "100000 loops, best of 3: 5.99 µs per loop\n",
      "1000 loops, best of 3: 923 µs per loop\n",
      "10000 loops, best of 3: 93.1 µs per loop\n"
     ]
    }
   ],
   "source": [
    "%timeit np.linspace(0, 50, num=1000)\n",
    "%timeit linspace_for(0, 50, num=1000)\n",
    "%timeit linspace_list_comprehension(0, 50, num=1000)"
   ]
  },
  {
   "cell_type": "code",
   "execution_count": 9,
   "metadata": {
    "collapsed": false
   },
   "outputs": [
    {
     "name": "stdout",
     "output_type": "stream",
     "text": [
      "The slowest run took 8.09 times longer than the fastest. This could mean that an intermediate result is being cached.\n",
      "100000 loops, best of 3: 4.29 µs per loop\n",
      "100000 loops, best of 3: 3.55 µs per loop\n",
      "The slowest run took 4.00 times longer than the fastest. This could mean that an intermediate result is being cached.\n",
      "1000000 loops, best of 3: 1.28 µs per loop\n"
     ]
    }
   ],
   "source": [
    "%timeit np.linspace(0, 50, num=5)\n",
    "%timeit linspace_for(0, 50, num=5)\n",
    "%timeit linspace_list_comprehension(0, 50, num=5)"
   ]
  },
  {
   "cell_type": "markdown",
   "metadata": {},
   "source": [
    "### Выполнение 1. пункт 2."
   ]
  },
  {
   "cell_type": "code",
   "execution_count": 10,
   "metadata": {
    "collapsed": false
   },
   "outputs": [
    {
     "name": "stdout",
     "output_type": "stream",
     "text": [
      "[20 30 40 50] [0 1 2 3]\n",
      "[20, 30, 40, 50] [0, 1, 2, 3]\n"
     ]
    }
   ],
   "source": [
    "import numpy as np\n",
    "a = np.array([20, 30, 40, 50])\n",
    "b = np.arange(4)\n",
    "\n",
    "c = [20, 30, 40, 50]\n",
    "d = [i for i in xrange(4)]\n",
    "\n",
    "print a, b\n",
    "print c, d"
   ]
  },
  {
   "cell_type": "code",
   "execution_count": 11,
   "metadata": {
    "collapsed": false
   },
   "outputs": [
    {
     "name": "stdout",
     "output_type": "stream",
     "text": [
      "The slowest run took 42.96 times longer than the fastest. This could mean that an intermediate result is being cached.\n",
      "1000000 loops, best of 3: 395 ns per loop\n",
      "The slowest run took 9.36 times longer than the fastest. This could mean that an intermediate result is being cached.\n",
      "10000000 loops, best of 3: 126 ns per loop\n",
      "[20 31 42 53]\n",
      "[20, 30, 40, 50, 0, 1, 2, 3]\n"
     ]
    }
   ],
   "source": [
    "%timeit a + b\n",
    "%timeit c + d\n",
    "\n",
    "# сравним полученные значения\n",
    "print a + b\n",
    "print c + d"
   ]
  },
  {
   "cell_type": "markdown",
   "metadata": {},
   "source": [
    "#### Для list: c - d, c * d, c / d, c ** d, c % d - отрабатывает с ошибкой, т.е. нужно решать не стандартными методами"
   ]
  },
  {
   "cell_type": "code",
   "execution_count": 12,
   "metadata": {
    "collapsed": false
   },
   "outputs": [
    {
     "name": "stdout",
     "output_type": "stream",
     "text": [
      "The slowest run took 28.40 times longer than the fastest. This could mean that an intermediate result is being cached.\n",
      "1000000 loops, best of 3: 403 ns per loop\n",
      "[20 29 38 47]\n"
     ]
    }
   ],
   "source": [
    "%timeit a - b\n",
    "print a - b"
   ]
  },
  {
   "cell_type": "code",
   "execution_count": 13,
   "metadata": {
    "collapsed": false
   },
   "outputs": [
    {
     "name": "stdout",
     "output_type": "stream",
     "text": [
      "The slowest run took 32.61 times longer than the fastest. This could mean that an intermediate result is being cached.\n",
      "1000000 loops, best of 3: 412 ns per loop\n",
      "[  0  30  80 150]\n"
     ]
    }
   ],
   "source": [
    "%timeit a * b\n",
    "print a * b"
   ]
  },
  {
   "cell_type": "code",
   "execution_count": 14,
   "metadata": {
    "collapsed": false
   },
   "outputs": [
    {
     "name": "stderr",
     "output_type": "stream",
     "text": [
      "C:\\ProgramData\\Anaconda2\\lib\\site-packages\\ipykernel\\__main__.py:257: RuntimeWarning: divide by zero encountered in divide\n"
     ]
    },
    {
     "name": "stdout",
     "output_type": "stream",
     "text": [
      "The slowest run took 222.52 times longer than the fastest. This could mean that an intermediate result is being cached.\n",
      "100000 loops, best of 3: 2.06 µs per loop\n",
      "[ 0 30 20 16]\n"
     ]
    },
    {
     "name": "stderr",
     "output_type": "stream",
     "text": [
      "C:\\ProgramData\\Anaconda2\\lib\\site-packages\\ipykernel\\__main__.py:3: RuntimeWarning: divide by zero encountered in divide\n",
      "  app.launch_new_instance()\n"
     ]
    }
   ],
   "source": [
    "# При делении на 0 возвращается inf (бесконечность)\n",
    "%timeit a / b\n",
    "print a / b"
   ]
  },
  {
   "cell_type": "code",
   "execution_count": 15,
   "metadata": {
    "collapsed": false
   },
   "outputs": [
    {
     "name": "stdout",
     "output_type": "stream",
     "text": [
      "The slowest run took 32.66 times longer than the fastest. This could mean that an intermediate result is being cached.\n",
      "1000000 loops, best of 3: 737 ns per loop\n",
      "[     1     30   1600 125000]\n"
     ]
    }
   ],
   "source": [
    "%timeit a ** b\n",
    "print a ** b"
   ]
  },
  {
   "cell_type": "code",
   "execution_count": 16,
   "metadata": {
    "collapsed": false
   },
   "outputs": [
    {
     "name": "stderr",
     "output_type": "stream",
     "text": [
      "C:\\ProgramData\\Anaconda2\\lib\\site-packages\\ipykernel\\__main__.py:257: RuntimeWarning: divide by zero encountered in remainder\n"
     ]
    },
    {
     "name": "stdout",
     "output_type": "stream",
     "text": [
      "The slowest run took 44.63 times longer than the fastest. This could mean that an intermediate result is being cached.\n",
      "100000 loops, best of 3: 2.06 µs per loop\n",
      "[0 0 0 2]\n"
     ]
    },
    {
     "name": "stderr",
     "output_type": "stream",
     "text": [
      "C:\\ProgramData\\Anaconda2\\lib\\site-packages\\ipykernel\\__main__.py:3: RuntimeWarning: divide by zero encountered in remainder\n",
      "  app.launch_new_instance()\n"
     ]
    }
   ],
   "source": [
    "# При взятии остатка от деления на 0 возвращается 0\n",
    "%timeit a % b\n",
    "print a % b"
   ]
  },
  {
   "cell_type": "markdown",
   "metadata": {},
   "source": [
    "### Выполнение 1. пункт 3."
   ]
  },
  {
   "cell_type": "code",
   "execution_count": 17,
   "metadata": {
    "collapsed": true
   },
   "outputs": [],
   "source": [
    "from scipy import optimize"
   ]
  },
  {
   "cell_type": "code",
   "execution_count": 18,
   "metadata": {
    "collapsed": false
   },
   "outputs": [
    {
     "name": "stdout",
     "output_type": "stream",
     "text": [
      "3.0\n"
     ]
    }
   ],
   "source": [
    "def f(x):\n",
    "    return (x[0] - 3.2) ** 2 + (x[1] - 0.1) ** 2 + 3\n",
    "\n",
    "print f([3.2, 0.1])"
   ]
  },
  {
   "cell_type": "code",
   "execution_count": 19,
   "metadata": {
    "collapsed": false
   },
   "outputs": [
    {
     "name": "stdout",
     "output_type": "stream",
     "text": [
      "      fun: 3.0000000000011435\n",
      " hess_inv: array([[ 0.94055055, -0.16183475],\n",
      "       [-0.16183475,  0.55944947]])\n",
      "      jac: array([ -2.05636024e-06,   5.36441803e-07])\n",
      "  message: 'Optimization terminated successfully.'\n",
      "     nfev: 16\n",
      "      nit: 3\n",
      "     njev: 4\n",
      "   status: 0\n",
      "  success: True\n",
      "        x: array([ 3.19999896,  0.10000026])\n"
     ]
    }
   ],
   "source": [
    "x_min = optimize.minimize(f, [5, 5])\n",
    "print x_min"
   ]
  },
  {
   "cell_type": "markdown",
   "metadata": {},
   "source": [
    "#### method для optimize.minimize\n",
    "        - 'Nelder-Mead' :ref:`(see here) <optimize.minimize-neldermead>`\n",
    "        - 'Powell'      :ref:`(see here) <optimize.minimize-powell>`\n",
    "        - 'CG'          :ref:`(see here) <optimize.minimize-cg>`\n",
    "        - 'BFGS'        :ref:`(see here) <optimize.minimize-bfgs>`\n",
    "        - 'Newton-CG'   :ref:`(see here) <optimize.minimize-newtoncg>`\n",
    "        - 'L-BFGS-B'    :ref:`(see here) <optimize.minimize-lbfgsb>`\n",
    "        - 'TNC'         :ref:`(see here) <optimize.minimize-tnc>`\n",
    "        - 'COBYLA'      :ref:`(see here) <optimize.minimize-cobyla>`\n",
    "        - 'SLSQP'       :ref:`(see here) <optimize.minimize-slsqp>`\n",
    "        - 'dogleg'      :ref:`(see here) <optimize.minimize-dogleg>`\n",
    "        - 'trust-ncg'   :ref:`(see here) <optimize.minimize-trustncg>`\n",
    "        - custom - a callable object (added in version 0.14.0),\n",
    "          see below for description."
   ]
  },
  {
   "cell_type": "markdown",
   "metadata": {},
   "source": [
    "#### Для методов 'Newton-CG', 'dogleg', 'trust-ncg' выводится ошибка ValueError: Jacobian is required for dogleg minimization"
   ]
  },
  {
   "cell_type": "code",
   "execution_count": 20,
   "metadata": {
    "collapsed": false
   },
   "outputs": [
    {
     "name": "stdout",
     "output_type": "stream",
     "text": [
      "87 \tNelder-Mead\n",
      "92 \tPowell\n",
      "20 \tCG\n",
      "16 \tBFGS\n",
      "9 \tL-BFGS-B\n",
      "22 \tTNC\n",
      "47 \tCOBYLA\n",
      "9 \tSLSQP\n",
      "Наименьшее количество вычислений функции   9\n"
     ]
    }
   ],
   "source": [
    "# чтобы не запускать все методы, создадим list с наименованиями\n",
    "my_list = ['Nelder-Mead','Powell','CG','BFGS','L-BFGS-B','TNC','COBYLA','SLSQP']\n",
    "\n",
    "# зададим мин количество выполнений функции как 1000\n",
    "min_nfev = 1000\n",
    "\n",
    "# и для каждого метода сравним nfev\n",
    "for elem in my_list:\n",
    "    x_min = optimize.minimize(f, [5, 5], method = elem)\n",
    "    \n",
    "    # отобразим все nfev\n",
    "    print x_min.nfev,'\\t', elem\n",
    "    if x_min.nfev < min_nfev:\n",
    "        min_nfev = x_min.nfev\n",
    "\n",
    "print 'Наименьшее количество вычислений функции',' ', min_nfev"
   ]
  },
  {
   "cell_type": "markdown",
   "metadata": {},
   "source": [
    "## 2. Продвинутый уровень: изучаем изменения в документации sklearn"
   ]
  },
  {
   "cell_type": "markdown",
   "metadata": {},
   "source": [
    "Установите себе самую свежую версию sklearn. В ней метод train_test_split должен быть в модуле model_selection, а не в cross_validation, как в старых версиях и в блокноте с лекции. Перепишите код с лекции так, чтобы вместо модуля sklearn.cross_validation он использовал sklearn.model_selection, и по-прежнему работал (продемонстрируйте это). Будьте внимательны к документации - сигнатура некоторых функций изменилась."
   ]
  },
  {
   "cell_type": "code",
   "execution_count": null,
   "metadata": {
    "collapsed": true
   },
   "outputs": [],
   "source": []
  },
  {
   "cell_type": "markdown",
   "metadata": {},
   "source": [
    "## 3. Сложный уровень: творческая часть"
   ]
  },
  {
   "cell_type": "markdown",
   "metadata": {},
   "source": [
    "1. Заполните, пожалуйста, форму обратной связи по курсу: https://docs.google.com/forms/d/1aBPfORE8T3upInordGxPXZQiOPk4gFsIzvlimWerh7w Любые Ваши предложения могут быть очень ценны для нас, не стесняйтесь написать все, что думаете :)\n",
    "1. Выберите любой модуль из не рассмотренных на последней лекции (можно взять любой из рекомендованных, можно любой на ваше усмотрение), напишите, зачем его используют и покажите несколько простых примеров его применения, предварительно разобравшись с ними в документации."
   ]
  },
  {
   "cell_type": "code",
   "execution_count": null,
   "metadata": {
    "collapsed": true
   },
   "outputs": [],
   "source": []
  }
 ],
 "metadata": {
  "anaconda-cloud": {},
  "kernelspec": {
   "display_name": "Python 2",
   "language": "python",
   "name": "python2"
  },
  "language_info": {
   "codemirror_mode": {
    "name": "ipython",
    "version": 2
   },
   "file_extension": ".py",
   "mimetype": "text/x-python",
   "name": "python",
   "nbconvert_exporter": "python",
   "pygments_lexer": "ipython2",
   "version": "2.7.13"
  }
 },
 "nbformat": 4,
 "nbformat_minor": 1
}
