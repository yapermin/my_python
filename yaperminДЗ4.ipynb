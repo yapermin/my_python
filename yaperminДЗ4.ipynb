{
 "cells": [
  {
   "cell_type": "markdown",
   "metadata": {},
   "source": [
    "### Большая часть задач требует операций с файлами, поэтому для воспроизводимости результатов работы вашего кода эти файлы нужно создавать\n",
    "\n",
    "### Можете их всех создавать в текущей папке, быстро и удобно это можно сделать таким способом:"
   ]
  },
  {
   "cell_type": "code",
   "execution_count": 1,
   "metadata": {
    "collapsed": false
   },
   "outputs": [],
   "source": [
    "text = \"\"\"123\n",
    "4567\n",
    " 8910\n",
    "\"\"\"\n",
    "with open('task_1.1_source', 'w') as f:\n",
    "    f.write(text)"
   ]
  },
  {
   "cell_type": "code",
   "execution_count": 2,
   "metadata": {
    "collapsed": false
   },
   "outputs": [
    {
     "name": "stderr",
     "output_type": "stream",
     "text": [
      "\"cat\" ­Ґ пў«пҐвбп ў­гваҐ­­Ґ© Ё«Ё ў­Ґи­Ґ©\n",
      "Є®¬ ­¤®©, ЁбЇ®«­пҐ¬®© Їа®Ја ¬¬®© Ё«Ё Ї ЄҐв­л¬ д ©«®¬.\n"
     ]
    }
   ],
   "source": [
    "!cat task_1.1_source"
   ]
  },
  {
   "cell_type": "code",
   "execution_count": 3,
   "metadata": {
    "collapsed": false
   },
   "outputs": [
    {
     "name": "stdout",
     "output_type": "stream",
     "text": [
      "123\n",
      "4567\n",
      " 8910\n"
     ]
    }
   ],
   "source": [
    "# в Windows \n",
    "!type task_1.1_source"
   ]
  },
  {
   "cell_type": "markdown",
   "metadata": {},
   "source": [
    "# Базовый уровень"
   ]
  },
  {
   "cell_type": "markdown",
   "metadata": {},
   "source": [
    "## Задание 1.1\n",
    "\n",
    "Напишите функцию, копирующую файл\n",
    "\n",
    "source_path должен существовать, а отсутствующие промежуточные папки из target_path должны быть созданы\n",
    "\n",
    "Подсказка: можно прочитать исходный файл и записать в новый. \n",
    "\n",
    "Опциональное усложнение: попробуйте написать так, чтобы функция работала и с большими файлами (нужно, чтобы содежимое файла не считывалось полностью в память)"
   ]
  },
  {
   "cell_type": "code",
   "execution_count": 4,
   "metadata": {
    "collapsed": true
   },
   "outputs": [],
   "source": [
    "import os\n",
    "\n",
    "def copy_file(source_path, target_path):\n",
    "    # зададим файлу имя\n",
    "    fname ='task_1.1_copy'\n",
    "    # считаем содержимое старого файла в список\n",
    "    read = list()\n",
    "    with open(source_path, 'r') as ff:\n",
    "        for line in ff:\n",
    "            read.append(line)\n",
    "    \n",
    "    # проверим и создадим недостающие папки для пути нового файла\n",
    "    if not os.path.exists(target_path):\n",
    "        os.makedirs(target_path)\n",
    "    \n",
    "    # запишем содержимое списка в новый файл\n",
    "    with open(os.path.join(target_path, fname), 'w') as ff:\n",
    "        for elem in read:\n",
    "            ff.write(elem)\n",
    "    print \"Файл \" + source_path + \" скопирован в директорию \" + target_path + \" c именем \" + fname\n",
    "    return"
   ]
  },
  {
   "cell_type": "code",
   "execution_count": 5,
   "metadata": {
    "collapsed": false
   },
   "outputs": [
    {
     "name": "stdout",
     "output_type": "stream",
     "text": [
      "Файл task_1.1_source скопирован в директорию test1/test2/test3/test4 c именем task_1.1_copy\n"
     ]
    }
   ],
   "source": [
    "# вызываем функцию копирования файла в директорию\n",
    "copy_file('task_1.1_source', 'test1/test2/test3/test4')"
   ]
  },
  {
   "cell_type": "code",
   "execution_count": 6,
   "metadata": {
    "collapsed": false
   },
   "outputs": [
    {
     "name": "stdout",
     "output_type": "stream",
     "text": [
      " Том в устройстве C имеет метку OSDisk\n",
      " Серийный номер тома: 34E1-B0E9\n",
      "\n",
      " Содержимое папки C:\\Users\\yapermin\\My_Python\\ДЗ4\\test1\\test2\\test3\\test4\n",
      "\n",
      "11.06.2017  10:24    <DIR>          .\n",
      "11.06.2017  10:24    <DIR>          ..\n",
      "11.06.2017  10:24                18 task_1.1_copy\n",
      "               1 файлов             18 байт\n",
      "               2 папок  261 352 685 568 байт свободно\n"
     ]
    }
   ],
   "source": [
    "# выводим содержимоее папки назначения в Windows\n",
    "list_dir = !dir test1\\test2\\test3\\test4\n",
    "\n",
    "for i in list_dir:\n",
    "    print i.decode('IBM866')"
   ]
  },
  {
   "cell_type": "code",
   "execution_count": 7,
   "metadata": {
    "collapsed": false
   },
   "outputs": [
    {
     "name": "stdout",
     "output_type": "stream",
     "text": [
      "123\n",
      "4567\n",
      " 8910\n"
     ]
    }
   ],
   "source": [
    "# исходный файл в Windows \n",
    "!type task_1.1_source"
   ]
  },
  {
   "cell_type": "code",
   "execution_count": 8,
   "metadata": {
    "collapsed": false
   },
   "outputs": [
    {
     "name": "stdout",
     "output_type": "stream",
     "text": [
      "123\n",
      "4567\n",
      " 8910\n"
     ]
    }
   ],
   "source": [
    "# скопированный файл в Windows \n",
    "!type test1\\test2\\test3\\test4\\task_1.1_copy"
   ]
  },
  {
   "cell_type": "markdown",
   "metadata": {},
   "source": [
    "## Задание 1.2\n",
    "\n",
    "##### В файле source_path находится англо-латинский словарь, то есть список слов на английском языке и их переводы на латинский язык (переводов может быть несколько). Необходимо создать из него латино-английский словарь по пути target_path. Например, из словаря\n",
    "\n",
    "\n",
    "\n",
    "apple - malum, pomum, popula\n",
    "\n",
    "fruit - baca, bacca, popum\n",
    "\n",
    "punishment - malum, multa\n",
    "\n",
    "\n",
    "\n",
    "##### нужно сделать словарь.\n",
    "\n",
    "baca - fruit\n",
    "\n",
    "bacca - fruit\n",
    "\n",
    "malum - apple, punishment\n",
    "\n",
    "multa - punishment\n",
    "\n",
    "pomum - apple\n",
    "\n",
    "popula - apple\n",
    "\n",
    "popum - fruit\n",
    "\n",
    "##### Не забудьте, что слова нужно расположить в алфавитном порядке.\n",
    "##### Будет полезна функция strip у строки для удаления пробелов\n"
   ]
  },
  {
   "cell_type": "code",
   "execution_count": 10,
   "metadata": {
    "collapsed": true
   },
   "outputs": [],
   "source": [
    "text = \"\"\"apple - malum, pomum, popula\n",
    "\n",
    "fruit - baca, bacca, popum\n",
    "\n",
    "punishment - malum, multa\n",
    "\"\"\"\n",
    "with open('task_1.2_source', 'w') as f:\n",
    "    f.write(text)"
   ]
  },
  {
   "cell_type": "code",
   "execution_count": 11,
   "metadata": {
    "collapsed": false
   },
   "outputs": [
    {
     "name": "stdout",
     "output_type": "stream",
     "text": [
      "apple - malum, pomum, popula\n",
      "\n",
      "fruit - baca, bacca, popum\n",
      "\n",
      "punishment - malum, multa\n"
     ]
    }
   ],
   "source": [
    "# исходный словарь в Windows \n",
    "!type task_1.2_source"
   ]
  },
  {
   "cell_type": "code",
   "execution_count": 9,
   "metadata": {
    "collapsed": true
   },
   "outputs": [],
   "source": [
    "import os\n",
    "\n",
    "def eng_lat_2_lat_eng(source_path, target_path):\n",
    "    # зададим файлу имя\n",
    "    fname ='task_1.2_lat_eng'\n",
    "    # считаем содержимое старого файла в список\n",
    "    read = dict()\n",
    "    with open(source_path, 'r') as ff:\n",
    "        for line in ff:\n",
    "            splitted_line = line.split(' - ')\n",
    "            if splitted_line[0].strip() <> '':\n",
    "                read[splitted_line[0].strip()] = splitted_line[1].strip()\n",
    "    \n",
    "    # проверим и создадим недостающие папки для пути нового файла\n",
    "    if not os.path.exists(target_path):\n",
    "        os.makedirs(target_path)\n",
    "        \n",
    "    # запишем содержимое списка в новый файл\n",
    "    with open(os.path.join(target_path, fname), 'w') as ff:\n",
    "        write = list()\n",
    "        for elem in read:\n",
    "            splitted_line = read[elem].split(', ')\n",
    "            for word in splitted_line:\n",
    "                write.append(word + ' - ' + elem + '\\n'+ '\\n')\n",
    "        for elem in sorted(write):\n",
    "            ff.write(elem)\n",
    "    return"
   ]
  },
  {
   "cell_type": "code",
   "execution_count": 12,
   "metadata": {
    "collapsed": true
   },
   "outputs": [],
   "source": [
    "# вызываем функцию\n",
    "eng_lat_2_lat_eng('task_1.2_source', 'test1/test2/test3/')"
   ]
  },
  {
   "cell_type": "code",
   "execution_count": 13,
   "metadata": {
    "collapsed": false
   },
   "outputs": [
    {
     "name": "stdout",
     "output_type": "stream",
     "text": [
      " Том в устройстве C имеет метку OSDisk\n",
      " Серийный номер тома: 34E1-B0E9\n",
      "\n",
      " Содержимое папки C:\\Users\\yapermin\\My_Python\\ДЗ4\\test1\\test2\\test3\n",
      "\n",
      "11.06.2017  10:24    <DIR>          .\n",
      "11.06.2017  10:24    <DIR>          ..\n",
      "11.06.2017  10:29               146 task_1.2_lat_eng\n",
      "11.06.2017  10:24    <DIR>          test4\n",
      "               1 файлов            146 байт\n",
      "               3 папок  261 352 583 168 байт свободно\n"
     ]
    }
   ],
   "source": [
    "# выводим содержимоее папки назначения в Windows\n",
    "list_dir = !dir test1\\test2\\test3\\\n",
    "\n",
    "for i in list_dir:\n",
    "    print i.decode('IBM866')"
   ]
  },
  {
   "cell_type": "code",
   "execution_count": 14,
   "metadata": {
    "collapsed": false
   },
   "outputs": [
    {
     "name": "stdout",
     "output_type": "stream",
     "text": [
      "baca - fruit\n",
      "\n",
      "bacca - fruit\n",
      "\n",
      "malum - apple\n",
      "\n",
      "malum - punishment\n",
      "\n",
      "multa - punishment\n",
      "\n",
      "pomum - apple\n",
      "\n",
      "popula - apple\n",
      "\n",
      "popum - fruit\n",
      "\n"
     ]
    }
   ],
   "source": [
    "# созданный lat-eng словарь в Windows \n",
    "!type test1\\test2\\test3\\task_1.2_lat_eng"
   ]
  },
  {
   "cell_type": "markdown",
   "metadata": {},
   "source": [
    "## Задание 1.3\n",
    "\n",
    "Напишите функцию, вычисляющую длину русского слова, независимо от его кодировки\n",
    "\n",
    "Если параметр encoding задан, то нужно декодировать текст при помощи этой кодировки. А если он не задан, то кодировку надо определить самостоятельно.\n",
    "\n",
    "##### Если кодировка не задана, то точное решение здесь написать не получится. Но можно воспользоваться функцией my_decoder из лекции"
   ]
  },
  {
   "cell_type": "code",
   "execution_count": 17,
   "metadata": {
    "collapsed": true
   },
   "outputs": [],
   "source": [
    "import chardet\n",
    "\n",
    "def my_decoder(val):\n",
    "    if type(val) is unicode:\n",
    "        return val\n",
    "    else:\n",
    "        return unicode(val, encoding=chardet.detect(val)['encoding'])\n",
    "    \n",
    "def my_len(word, encoding=None):\n",
    "    if encoding == None:\n",
    "        word = my_decoder(word)\n",
    "    else:\n",
    "        word = unicode(word, encoding=encoding)\n",
    "    return len(word)"
   ]
  },
  {
   "cell_type": "code",
   "execution_count": 18,
   "metadata": {
    "collapsed": false
   },
   "outputs": [
    {
     "data": {
      "text/plain": [
       "True"
      ]
     },
     "execution_count": 18,
     "metadata": {},
     "output_type": "execute_result"
    }
   ],
   "source": [
    "my_len('текст') == 5"
   ]
  },
  {
   "cell_type": "code",
   "execution_count": 19,
   "metadata": {
    "collapsed": false
   },
   "outputs": [
    {
     "data": {
      "text/plain": [
       "True"
      ]
     },
     "execution_count": 19,
     "metadata": {},
     "output_type": "execute_result"
    }
   ],
   "source": [
    "my_len(u'текст') == 5"
   ]
  },
  {
   "cell_type": "code",
   "execution_count": 20,
   "metadata": {
    "collapsed": false
   },
   "outputs": [
    {
     "data": {
      "text/plain": [
       "True"
      ]
     },
     "execution_count": 20,
     "metadata": {},
     "output_type": "execute_result"
    }
   ],
   "source": [
    "my_len(u'ааааа'.encode('utf_16'), encoding='utf_16') == 5"
   ]
  },
  {
   "cell_type": "code",
   "execution_count": 21,
   "metadata": {
    "collapsed": false
   },
   "outputs": [
    {
     "data": {
      "text/plain": [
       "True"
      ]
     },
     "execution_count": 21,
     "metadata": {},
     "output_type": "execute_result"
    }
   ],
   "source": [
    "my_len(u'текст'.encode('windows-1251')) == 5"
   ]
  },
  {
   "cell_type": "markdown",
   "metadata": {},
   "source": [
    "# Продвинутый уровень"
   ]
  },
  {
   "cell_type": "markdown",
   "metadata": {},
   "source": [
    "## Задание 2.1\n",
    "\n",
    "Напишите функцию, которая выписывает список файлов в данной директории и сортирует их в соответствии с их размером. Функция должна получать путь к директории в качестве аргумента и печатать на экран имена всех файлов в ней и их размеры, причем первыми должны идти файлы с наибольшими размерами, а в случае одинакового размер файлы сортируются по алфавиту.\n",
    "\n",
    "##### Указание. Изучите функции listdir и stat из модуля os и функции isfile и join из модуля os.path.\n"
   ]
  },
  {
   "cell_type": "code",
   "execution_count": 22,
   "metadata": {
    "collapsed": true
   },
   "outputs": [],
   "source": [
    "import os\n",
    "\n",
    "# функция для сохдания 6 файлов в директории, которую будем передавать в функцию, например: \\test1\\test2\\\n",
    "def create_file(dir_path):\n",
    "    # проверим и создадим недостающие папки для пути новых файла\n",
    "    if not os.path.exists(dir_path):\n",
    "        os.makedirs(dir_path)\n",
    "    \n",
    "    text = \"\"\"This module provides a portable way of using operating system dependent functionality. If you just want to read or write a file see open(), if you want to manipulate paths, see the os.path module, and if you want to read all the lines in all the files on the command line see the fileinput module. For creating temporary files and directories see the tempfile module, and for high-level file and directory handling see the shutil module.\n",
    "\n",
    "    Notes on the availability of these functions:\n",
    "    •The design of all built-in operating system dependent modules of Python is such that as long as the same functionality is available, it uses the same interface; for example, the function os.stat(path) returns stat information about path in the same format (which happens to have originated with the POSIX interface).\n",
    "    •Extensions peculiar to a particular operating system are also available through the os module, but using them is of course a threat to portability.\n",
    "    •An “Availability: Unix” note means that this function is commonly found on Unix systems. It does not make any claims about its existence on a specific operating system.\n",
    "    •If not separately noted, all functions that claim “Availability: Unix” are supported on Mac OS X, which builds on a Unix core.\n",
    "    \"\"\"\n",
    "    \n",
    "    with open(os.path.join(dir_path, 'task_2.1_source_1'), 'w') as f:\n",
    "        f.write(text)\n",
    "    \n",
    "    text = \"\"\"Note:\n",
    "     All functions in this module raise OSError in the case of invalid or inaccessible file names and paths, or other arguments that have the correct type, but are not accepted by the operating system.\n",
    "\n",
    "    exception os.error\n",
    "    An alias for the built-in OSError exception.\n",
    "    os.name\n",
    "    The name of the operating system dependent module imported. The following names have currently been registered: 'posix', 'nt', 'os2', 'ce', 'java', 'riscos'.\n",
    "\n",
    "    See also:\n",
    "     sys.platform has a finer granularity. os.uname() gives system-dependent version information.\n",
    "\n",
    "    The platform module provides detailed checks for the system’s identity.\n",
    "    \"\"\"\n",
    "    with open(os.path.join(dir_path, 'task_2.1_source_2'), 'w') as f:\n",
    "        f.write(text)\n",
    "\n",
    "    text = \"\"\"15.1.1. Process Parameters¶\n",
    "\n",
    "    These functions and data items provide information and operate on the current process and user.\n",
    "    os.environ\n",
    "    A mapping object representing the string environment. For example, environ['HOME'] is the pathname of your home directory (on some platforms), and is equivalent to getenv(\"HOME\") in C.\n",
    "\n",
    "    This mapping is captured the first time the os module is imported, typically during Python startup as part of processing site.py. Changes to the environment made after this time are not reflected in os.environ, except for changes made by modifying os.environ directly.\n",
    "\n",
    "    If the platform supports the putenv() function, this mapping may be used to modify the environment as well as query the environment. putenv() will be called automatically when the mapping is modified.\n",
    "    \"\"\"\n",
    "    with open(os.path.join(dir_path, 'task_2.1_source_3'), 'w') as f:\n",
    "        f.write(text)\n",
    "\n",
    "    text = \"\"\"\n",
    "    If putenv() is not provided, a modified copy of this mapping may be passed to the appropriate process-creation functions to cause child processes to use a modified environment.\n",
    "\n",
    "    If the platform supports the unsetenv() function, you can delete items in this mapping to unset environment variables. unsetenv() will be called automatically when an item is deleted from os.environ, and when one of the pop() or clear() methods is called.\n",
    "\n",
    "\n",
    "    Changed in version 2.6: Also unset environment variables when calling os.environ.clear() and os.environ.pop().\n",
    "    os.chdir(path)os.fchdir(fd)os.getcwd()\n",
    "    These functions are described in Files and Directories.\n",
    "    os.ctermid()\n",
    "    Return the filename corresponding to the controlling terminal of the process.\n",
    "\n",
    "    Availability: Unix.\n",
    "    os.getegid()\n",
    "    Return the effective group id of the current process. This corresponds to the “set id” bit on the file being executed in the current process.\n",
    "\n",
    "    Availability: Unix.\n",
    "    os.geteuid()\n",
    "    Return the current process’s effective user id.\n",
    "    \"\"\"\n",
    "    with open(os.path.join(dir_path, 'task_2.1_source_4'), 'w') as f:\n",
    "        f.write(text)\n",
    "\n",
    "    text = \"\"\"os.getgid()\n",
    "    Return the real group id of the current process.\n",
    "\n",
    "    Availability: Unix.\n",
    "    os.getgroups()\n",
    "    Return list of supplemental group ids associated with the current process.\n",
    "\n",
    "    Availability: Unix.\n",
    "\n",
    "    Note:\n",
    "     On Mac OS X, getgroups() behavior differs somewhat from other Unix platforms. If the Python interpreter was built with a deployment target of 10.5 or earlier, getgroups() returns the list of effective group ids associated with the current user process; this list is limited to a system-defined number of entries, typically 16, and may be modified by calls to setgroups() if suitably privileged. If built with a deployment target greater than 10.5, getgroups() returns the current group access list for the user associated with the effective user id of the process; the group access list may change over the lifetime of the process, it is not affected by calls to setgroups(), and its length is not limited to 16. The deployment target value, MACOSX_DEPLOYMENT_TARGET, can be obtained with sysconfig.get_config_var().\n",
    "    \"\"\"\n",
    "    with open(os.path.join(dir_path, 'task_2.1_source_5'), 'w') as f:\n",
    "        f.write(text)\n",
    "\n",
    "    text = \"\"\"initgroups(username, gid)\n",
    "    Call the system initgroups() to initialize the group access list with all of the groups of which the specified username is a member, plus the specified group id.\n",
    "\n",
    "    Availability: Unix.\n",
    "\n",
    "\n",
    "    New in version 2.7.\n",
    "    os.getlogin()\n",
    "    Return the name of the user logged in on the controlling terminal of the process. For most purposes, it is more useful to use the environment variable LOGNAME to find out who the user is, or pwd.getpwuid(os.getuid())[0] to get the login name of the process’s real user id.\n",
    "\n",
    "    Availability: Unix.\n",
    "    os.getpgid(pid)\n",
    "    Return the process group id of the process with process id pid. If pid is 0, the process group id of the current process is returned.\n",
    "\n",
    "    Availability: Unix.\n",
    "\n",
    "\n",
    "    New in version 2.3.\n",
    "    os.getpgrp()\n",
    "    Return the id of the current process group.\n",
    "\n",
    "    Availability: Unix.\n",
    "    os.getpid()\n",
    "    Return the current process id.\n",
    "\n",
    "    Availability: Unix, Windows.\n",
    "    os.getppid()\n",
    "    Return the parent’s process id.\n",
    "\n",
    "    Availability: Unix.\n",
    "    os.getresuid()\n",
    "    Return a tuple (ruid, euid, suid) denoting the current process’s real, effective, and saved user ids.\n",
    "\n",
    "    Availability: Unix.\n",
    "\n",
    "\n",
    "    New in version 2.7.\n",
    "    os.getresgid()\n",
    "    Return a tuple (rgid, egid, sgid) denoting the current process’s real, effective, and saved group ids.\n",
    "\n",
    "    Availability: Unix.\n",
    "\n",
    "\n",
    "    New in version 2.7.\n",
    "    os.getuid()\n",
    "    Return the current process’s real user id.\n",
    "\n",
    "    Availability: Unix.\n",
    "    os.getenv(varname[, value])\n",
    "    Return the value of the environment variable varname if it exists, or value if it doesn’t. value defaults to None.\n",
    "\n",
    "    Availability: most flavors of Unix, Windows.\n",
    "    os.putenv(varname, value)\n",
    "    Set the environment variable named varname to the string value. Such changes to the environment affect subprocesses started with os.system(), popen() or fork() and execv().\n",
    "\n",
    "    Availability: most flavors of Unix, Windows.\n",
    "    \"\"\"\n",
    "    with open(os.path.join(dir_path, 'task_2.1_source_6'), 'w') as f:\n",
    "        f.write(text)"
   ]
  },
  {
   "cell_type": "code",
   "execution_count": 23,
   "metadata": {
    "collapsed": true
   },
   "outputs": [],
   "source": [
    "# вызываем функцию в Window\n",
    "create_file('test1/test2/')"
   ]
  },
  {
   "cell_type": "code",
   "execution_count": 24,
   "metadata": {
    "collapsed": false
   },
   "outputs": [
    {
     "name": "stdout",
     "output_type": "stream",
     "text": [
      " Том в устройстве C имеет метку OSDisk\n",
      " Серийный номер тома: 34E1-B0E9\n",
      "\n",
      " Содержимое папки C:\\Users\\yapermin\\My_Python\\ДЗ4\\test1\\test2\n",
      "\n",
      "11.06.2017  10:57    <DIR>          .\n",
      "11.06.2017  10:57    <DIR>          ..\n",
      "11.06.2017  11:00             1 297 task_2.1_source_1\n",
      "11.06.2017  11:00               663 task_2.1_source_2\n",
      "11.06.2017  11:00               827 task_2.1_source_3\n",
      "11.06.2017  11:00             1 073 task_2.1_source_4\n",
      "11.06.2017  11:00             1 061 task_2.1_source_5\n",
      "11.06.2017  11:00             1 996 task_2.1_source_6\n",
      "11.06.2017  10:24    <DIR>          test3\n",
      "               6 файлов          6 917 байт\n",
      "               3 папок  261 348 986 880 байт свободно\n"
     ]
    }
   ],
   "source": [
    "# выводим содержимоее папки назначения в Windows\n",
    "list_dir = !dir test1\\test2\\\n",
    "\n",
    "for i in list_dir:\n",
    "    print i.decode('IBM866')"
   ]
  },
  {
   "cell_type": "code",
   "execution_count": 25,
   "metadata": {
    "collapsed": false
   },
   "outputs": [],
   "source": [
    "import os\n",
    "    \n",
    "def get_dir_content_info(dir_path):\n",
    "    desc_dir = os.listdir(dir_path)\n",
    "    dir_file_dict = dict()\n",
    "    dir_file_list = list()\n",
    "    for elem in desc_dir:\n",
    "        if os.path.isfile(os.path.join(dir_path, elem)):\n",
    "            dir_file_list.append(os.stat(os.path.join(dir_path, elem))[6])\n",
    "            dir_file_dict[elem] = os.stat(os.path.join(dir_path, elem))[6]\n",
    "    dir_file_list = sorted(dir_file_list, reverse=1)\n",
    "                 \n",
    "    print 'В директории \"' + dir_path + '\" находится ' + str(len(dir_file_list)) + ' файлов, отсориторанные по размеру:'    \n",
    "    for elem in dir_file_list:\n",
    "        for fname in sorted(dir_file_dict):\n",
    "            if elem==dir_file_dict[fname]:\n",
    "                print fname + ' Размер (в байтах): ' + str(elem)\n",
    "                dir_file_dict.pop(fname)\n",
    "    return"
   ]
  },
  {
   "cell_type": "code",
   "execution_count": 26,
   "metadata": {
    "collapsed": false
   },
   "outputs": [
    {
     "name": "stdout",
     "output_type": "stream",
     "text": [
      "В директории \"test1/test2/\" находится 6 файлов, отсориторанные по размеру:\n",
      "task_2.1_source_6 Размер (в байтах): 1996\n",
      "task_2.1_source_1 Размер (в байтах): 1297\n",
      "task_2.1_source_4 Размер (в байтах): 1073\n",
      "task_2.1_source_5 Размер (в байтах): 1061\n",
      "task_2.1_source_3 Размер (в байтах): 827\n",
      "task_2.1_source_2 Размер (в байтах): 663\n"
     ]
    }
   ],
   "source": [
    "# вызываем функцию в Window\n",
    "get_dir_content_info('test1/test2/')"
   ]
  },
  {
   "cell_type": "markdown",
   "metadata": {},
   "source": [
    "## Задание 2.2\n",
    "\n",
    "Аналогично 1.2, но только теперь англо-русский в русско-английский словарь. Дополнительно теперь будет ещё параметр encoding для кодировки файлов. Если он None, то нужно самостоятельно определить кодировку файла.\n",
    "\n",
    "##### Решение будет почти дублировать 1.2, но сначала текст нужно привести в unicode"
   ]
  },
  {
   "cell_type": "code",
   "execution_count": 1,
   "metadata": {
    "collapsed": true
   },
   "outputs": [],
   "source": [
    "# создадим файл англо-русского словаря (исходный)\n",
    "text = \"\"\"unsubstantiated - необоснованный, бездоказательный\n",
    "\n",
    "shambolic - беспорядочный, хаотичный\n",
    "\n",
    "longer - дольше, долее\n",
    "\n",
    "swoosh - звук рассекаемого воздуха, свист\n",
    "\n",
    "brolly - зонтик, парашют\n",
    "\n",
    "stash - тайник, притон\n",
    "\n",
    "steeping - заваривание, замачивание\n",
    "\n",
    "decoction - отвар, отваривание\n",
    "\n",
    "shimmering - мерцающий\n",
    "\n",
    "yam - ямс, батат\n",
    "\n",
    "monogamy - моногамия, единобрачие\n",
    "\n",
    "monogamous - моногамный\n",
    "\n",
    "shadeless - однотонный, открытый\n",
    "\n",
    "locus - геометрическое место точек, местоположение\n",
    "\n",
    "subaqueous - подводный, субаквальный\n",
    "\"\"\"\n",
    "with open('task_2.2_source', 'w') as f:\n",
    "    f.write(text)"
   ]
  },
  {
   "cell_type": "code",
   "execution_count": 2,
   "metadata": {
    "collapsed": false
   },
   "outputs": [
    {
     "name": "stdout",
     "output_type": "stream",
     "text": [
      "unsubstantiated - РЅРµРѕР±РѕСЃРЅРѕРІР°РЅРЅС‹Р№, Р±РµР·РґРѕРєР°Р·Р°С‚РµР»СЊРЅС‹Р№\n",
      "\n",
      "shambolic - Р±РµСЃРїРѕСЂСЏРґРѕС‡РЅС‹Р№, С…Р°РѕС‚РёС‡РЅС‹Р№\n",
      "\n",
      "longer - РґРѕР»СЊС€Рµ, РґРѕР»РµРµ\n",
      "\n",
      "swoosh - Р·РІСѓРє СЂР°СЃСЃРµРєР°РµРјРѕРіРѕ РІРѕР·РґСѓС…Р°, СЃРІРёСЃС‚\n",
      "\n",
      "brolly - Р·РѕРЅС‚РёРє, РїР°СЂР°С€СЋС‚\n",
      "\n",
      "stash - С‚Р°Р№РЅРёРє, РїСЂРёС‚РѕРЅ\n",
      "\n",
      "steeping - Р·Р°РІР°СЂРёРІР°РЅРёРµ, Р·Р°РјР°С‡РёРІР°РЅРёРµ\n",
      "\n",
      "decoction - РѕС‚РІР°СЂ, РѕС‚РІР°СЂРёРІР°РЅРёРµ\n",
      "\n",
      "shimmering - РјРµСЂС†Р°СЋС‰РёР№\n",
      "\n",
      "yam - СЏРјСЃ, Р±Р°С‚Р°С‚\n",
      "\n",
      "monogamy - РјРѕРЅРѕРіР°РјРёСЏ, РµРґРёРЅРѕР±СЂР°С‡РёРµ\n",
      "\n",
      "monogamous - РјРѕРЅРѕРіР°РјРЅС‹Р№\n",
      "\n",
      "shadeless - РѕРґРЅРѕС‚РѕРЅРЅС‹Р№, РѕС‚РєСЂС‹С‚С‹Р№\n",
      "\n",
      "locus - РіРµРѕРјРµС‚СЂРёС‡РµСЃРєРѕРµ РјРµСЃС‚Рѕ С‚РѕС‡РµРє, РјРµСЃС‚РѕРїРѕР»РѕР¶РµРЅРёРµ\n",
      "\n",
      "subaqueous - РїРѕРґРІРѕРґРЅС‹Р№, СЃСѓР±Р°РєРІР°Р»СЊРЅС‹Р№\n"
     ]
    }
   ],
   "source": [
    "# исходный словарь eng-rus в Windows \n",
    "!type task_2.2_source"
   ]
  },
  {
   "cell_type": "code",
   "execution_count": 3,
   "metadata": {
    "collapsed": false
   },
   "outputs": [
    {
     "name": "stdout",
     "output_type": "stream",
     "text": [
      "unsubstantiated - необоснованный, бездоказательный\n",
      "\n",
      "shambolic - беспорядочный, хаотичный\n",
      "\n",
      "longer - дольше, долее\n",
      "\n",
      "swoosh - звук рассекаемого воздуха, свист\n",
      "\n",
      "brolly - зонтик, парашют\n",
      "\n",
      "stash - тайник, притон\n",
      "\n",
      "steeping - заваривание, замачивание\n",
      "\n",
      "decoction - отвар, отваривание\n",
      "\n",
      "shimmering - мерцающий\n",
      "\n",
      "yam - ямс, батат\n",
      "\n",
      "monogamy - моногамия, единобрачие\n",
      "\n",
      "monogamous - моногамный\n",
      "\n",
      "shadeless - однотонный, открытый\n",
      "\n",
      "locus - геометрическое место точек, местоположение\n",
      "\n",
      "subaqueous - подводный, субаквальный\n"
     ]
    }
   ],
   "source": [
    "# выводим содержимоее Файла в кодировке utf-8 в Windows\n",
    "list_dir = !type task_2.2_source\n",
    "\n",
    "for i in list_dir:\n",
    "    print i.decode('utf-8')"
   ]
  },
  {
   "cell_type": "code",
   "execution_count": 25,
   "metadata": {
    "collapsed": true
   },
   "outputs": [],
   "source": [
    "# используем функцию для определения кодировки из лекции\n",
    "import chardet\n",
    "import os\n",
    "\n",
    "def my_decoder(val):\n",
    "    if type(val) is unicode:\n",
    "        return val\n",
    "    else:\n",
    "        return unicode(val, encoding=chardet.detect(val)['encoding'])\n",
    "\n",
    "# возьмем функцию, которая переводит в Unicode с параметром encoding для кодировки слова\n",
    "def uni_word(word, encoding=None):\n",
    "    if encoding == None:\n",
    "        word = my_decoder(word)\n",
    "    else:\n",
    "        word = unicode(word, encoding=encoding)\n",
    "    return word\n",
    "\n",
    "# функция создания rus-eng словаря из исходного файла с указанной кодировкой\n",
    "def eng_rus_2_rus_eng(source_path, target_path, encoding=None):\n",
    "    # зададим файлу имя\n",
    "    fname ='task_2.2_rus_eng'\n",
    "    # считаем содержимое старого файла в список\n",
    "    read = dict()\n",
    "    with open(source_path, 'r') as ff:\n",
    "        for line in ff:\n",
    "            splitted_line = line.split(' - ')\n",
    "            if splitted_line[0].strip() <> '':\n",
    "                read[splitted_line[0].strip()] = uni_word(splitted_line[1].strip(),encoding)\n",
    "    \n",
    "    # проверим и создадим недостающие папки для пути нового файла\n",
    "    if not os.path.exists(target_path):\n",
    "        os.makedirs(target_path)\n",
    "        \n",
    "    # запишем содержимое списка в новый файл\n",
    "    with open(os.path.join(target_path, fname), 'w') as ff:\n",
    "        write = list()\n",
    "        for elem in read:\n",
    "            splitted_line = read[elem].split(', ')\n",
    "            for word in splitted_line:\n",
    "                write.append(word + ' - ' + elem + '\\n' + '\\n')\n",
    "        for elem in sorted(write):\n",
    "            if encoding == None:\n",
    "                ff.write(elem.encode('utf-8'))\n",
    "            else:\n",
    "                ff.write(elem.encode(encoding))\n",
    "    return"
   ]
  },
  {
   "cell_type": "code",
   "execution_count": 26,
   "metadata": {
    "collapsed": false
   },
   "outputs": [
    {
     "name": "stdout",
     "output_type": "stream",
     "text": [
      " Том в устройстве C имеет метку OSDisk\n",
      " Серийный номер тома: 34E1-B0E9\n",
      "\n",
      " Содержимое папки C:\\Users\\yapermin\\My_Python\\ДЗ4\\test1\\test2\\test3\n",
      "\n",
      "12.06.2017  10:26    <DIR>          .\n",
      "12.06.2017  10:26    <DIR>          ..\n",
      "11.06.2017  10:32               146 task_1.2_lat_eng\n",
      "12.06.2017  11:33               974 task_2.2_rus_eng\n",
      "11.06.2017  10:24    <DIR>          test4\n",
      "               2 файлов          1 120 байт\n",
      "               3 папок  263 066 402 816 байт свободно\n"
     ]
    }
   ],
   "source": [
    "# вызываем функцию без параметра encoding\n",
    "eng_rus_2_rus_eng('task_2.2_source', 'test1/test2/test3/')\n",
    "\n",
    "# выводим содержимоее папки назначения в Windows\n",
    "list_dir = !dir test1\\test2\\test3\\\n",
    "\n",
    "for i in list_dir:\n",
    "    print i.decode('IBM866')"
   ]
  },
  {
   "cell_type": "code",
   "execution_count": 27,
   "metadata": {
    "collapsed": false
   },
   "outputs": [
    {
     "name": "stdout",
     "output_type": "stream",
     "text": [
      "Р±Р°С‚Р°С‚ - yam\n",
      "\n",
      "Р±РµР·РґРѕРєР°Р·Р°С‚РµР»СЊРЅС‹Р№ - unsubstantiated\n",
      "\n",
      "Р±РµСЃРїРѕСЂСЏРґРѕС‡РЅС‹Р№ - shambolic\n",
      "\n",
      "РіРµРѕРјРµС‚СЂРёС‡РµСЃРєРѕРµ РјРµСЃС‚Рѕ С‚РѕС‡РµРє - locus\n",
      "\n",
      "РґРѕР»РµРµ - longer\n",
      "\n",
      "РґРѕР»СЊС€Рµ - longer\n",
      "\n",
      "РµРґРёРЅРѕР±СЂР°С‡РёРµ - monogamy\n",
      "\n",
      "Р·Р°РІР°СЂРёРІР°РЅРёРµ - steeping\n",
      "\n",
      "Р·Р°РјР°С‡РёРІР°РЅРёРµ - steeping\n",
      "\n",
      "Р·РІСѓРє СЂР°СЃСЃРµРєР°РµРјРѕРіРѕ РІРѕР·РґСѓС…Р° - swoosh\n",
      "\n",
      "Р·РѕРЅС‚РёРє - brolly\n",
      "\n",
      "РјРµСЂС†Р°СЋС‰РёР№ - shimmering\n",
      "\n",
      "РјРµСЃС‚РѕРїРѕР»РѕР¶РµРЅРёРµ - locus\n",
      "\n",
      "РјРѕРЅРѕРіР°РјРёСЏ - monogamy\n",
      "\n",
      "РјРѕРЅРѕРіР°РјРЅС‹Р№ - monogamous\n",
      "\n",
      "РЅРµРѕР±РѕСЃРЅРѕРІР°РЅРЅС‹Р№ - unsubstantiated\n",
      "\n",
      "РѕРґРЅРѕС‚РѕРЅРЅС‹Р№ - shadeless\n",
      "\n",
      "РѕС‚РІР°СЂ - decoction\n",
      "\n",
      "РѕС‚РІР°СЂРёРІР°РЅРёРµ - decoction\n",
      "\n",
      "РѕС‚РєСЂС‹С‚С‹Р№ - shadeless\n",
      "\n",
      "РїР°СЂР°С€СЋС‚ - brolly\n",
      "\n",
      "РїРѕРґРІРѕРґРЅС‹Р№ - subaqueous\n",
      "\n",
      "РїСЂРёС‚РѕРЅ - stash\n",
      "\n",
      "СЃРІРёСЃС‚ - swoosh\n",
      "\n",
      "СЃСѓР±Р°РєРІР°Р»СЊРЅС‹Р№ - subaqueous\n",
      "\n",
      "С‚Р°Р№РЅРёРє - stash\n",
      "\n",
      "С…Р°РѕС‚РёС‡РЅС‹Р№ - shambolic\n",
      "\n",
      "СЏРјСЃ - yam\n",
      "\n"
     ]
    }
   ],
   "source": [
    "# созданный rus-eng словарь в Windows \n",
    "!type test1\\test2\\test3\\task_2.2_rus_eng"
   ]
  },
  {
   "cell_type": "code",
   "execution_count": 28,
   "metadata": {
    "collapsed": false
   },
   "outputs": [
    {
     "name": "stdout",
     "output_type": "stream",
     "text": [
      "unsubstantiated - необоснованный, бездоказательный\n",
      "\n",
      "shambolic - беспорядочный, хаотичный\n",
      "\n",
      "longer - дольше, долее\n",
      "\n",
      "swoosh - звук рассекаемого воздуха, свист\n",
      "\n",
      "brolly - зонтик, парашют\n",
      "\n",
      "stash - тайник, притон\n",
      "\n",
      "steeping - заваривание, замачивание\n",
      "\n",
      "decoction - отвар, отваривание\n",
      "\n",
      "shimmering - мерцающий\n",
      "\n",
      "yam - ямс, батат\n",
      "\n",
      "monogamy - моногамия, единобрачие\n",
      "\n",
      "monogamous - моногамный\n",
      "\n",
      "shadeless - однотонный, открытый\n",
      "\n",
      "locus - геометрическое место точек, местоположение\n",
      "\n",
      "subaqueous - подводный, субаквальный\n"
     ]
    }
   ],
   "source": [
    "# выводим содержимое файла в кодировке utf-8 в Windows\n",
    "list_dir = !type task_2.2_source\n",
    "\n",
    "for i in list_dir:\n",
    "    print i.decode('utf-8')"
   ]
  },
  {
   "cell_type": "code",
   "execution_count": 29,
   "metadata": {
    "collapsed": true
   },
   "outputs": [],
   "source": [
    "# вызываем функцию с параметром encoding\n",
    "eng_rus_2_rus_eng('task_2.2_source', 'test1/test2/test3/', encoding='windows-1251')"
   ]
  },
  {
   "cell_type": "code",
   "execution_count": 30,
   "metadata": {
    "collapsed": false
   },
   "outputs": [
    {
     "name": "stdout",
     "output_type": "stream",
     "text": [
      "Р±Р°С‚Р°С‚ - yam\n",
      "\n",
      "Р±РµР·РґРѕРєР°Р·Р°С‚РµР»СЊРЅС‹Р№ - unsubstantiated\n",
      "\n",
      "Р±РµСЃРїРѕСЂСЏРґРѕС‡РЅС‹Р№ - shambolic\n",
      "\n",
      "РµРґРёРЅРѕР±СЂР°С‡РёРµ - monogamy\n",
      "\n",
      "Р·Р°РІР°СЂРёРІР°РЅРёРµ - steeping\n",
      "\n",
      "Р·Р°РјР°С‡РёРІР°РЅРёРµ - steeping\n",
      "\n",
      "Р·РІСѓРє СЂР°СЃСЃРµРєР°РµРјРѕРіРѕ РІРѕР·РґСѓС…Р° - swoosh\n",
      "\n",
      "Р·РѕРЅС‚РёРє - brolly\n",
      "\n",
      "РЅРµРѕР±РѕСЃРЅРѕРІР°РЅРЅС‹Р№ - unsubstantiated\n",
      "\n",
      "РѕРґРЅРѕС‚РѕРЅРЅС‹Р№ - shadeless\n",
      "\n",
      "РѕС‚РІР°СЂ - decoction\n",
      "\n",
      "РѕС‚РІР°СЂРёРІР°РЅРёРµ - decoction\n",
      "\n",
      "РѕС‚РєСЂС‹С‚С‹Р№ - shadeless\n",
      "\n",
      "РіРµРѕРјРµС‚СЂРёС‡РµСЃРєРѕРµ РјРµСЃС‚Рѕ С‚РѕС‡РµРє - locus\n",
      "\n",
      "РїР°СЂР°С€СЋС‚ - brolly\n",
      "\n",
      "РїРѕРґРІРѕРґРЅС‹Р№ - subaqueous\n",
      "\n",
      "РїСЂРёС‚РѕРЅ - stash\n",
      "\n",
      "РјРµСЂС†Р°СЋС‰РёР№ - shimmering\n",
      "\n",
      "РјРµСЃС‚РѕРїРѕР»РѕР¶РµРЅРёРµ - locus\n",
      "\n",
      "РјРѕРЅРѕРіР°РјРЅС‹Р№ - monogamous\n",
      "\n",
      "РјРѕРЅРѕРіР°РјРёСЏ - monogamy\n",
      "\n",
      "РґРѕР»РµРµ - longer\n",
      "\n",
      "РґРѕР»СЊС€Рµ - longer\n",
      "\n",
      "СЃРІРёСЃС‚ - swoosh\n",
      "\n",
      "СЃСѓР±Р°РєРІР°Р»СЊРЅС‹Р№ - subaqueous\n",
      "\n",
      "СЏРјСЃ - yam\n",
      "\n",
      "С‚Р°Р№РЅРёРє - stash\n",
      "\n",
      "С…Р°РѕС‚РёС‡РЅС‹Р№ - shambolic\n",
      "\n"
     ]
    }
   ],
   "source": [
    "# созданный rus-eng словарь в Windows \n",
    "!type test1\\test2\\test3\\task_2.2_rus_eng"
   ]
  },
  {
   "cell_type": "code",
   "execution_count": 31,
   "metadata": {
    "collapsed": false
   },
   "outputs": [
    {
     "name": "stdout",
     "output_type": "stream",
     "text": [
      "unsubstantiated - необоснованный, бездоказательный\n",
      "\n",
      "shambolic - беспорядочный, хаотичный\n",
      "\n",
      "longer - дольше, долее\n",
      "\n",
      "swoosh - звук рассекаемого воздуха, свист\n",
      "\n",
      "brolly - зонтик, парашют\n",
      "\n",
      "stash - тайник, притон\n",
      "\n",
      "steeping - заваривание, замачивание\n",
      "\n",
      "decoction - отвар, отваривание\n",
      "\n",
      "shimmering - мерцающий\n",
      "\n",
      "yam - ямс, батат\n",
      "\n",
      "monogamy - моногамия, единобрачие\n",
      "\n",
      "monogamous - моногамный\n",
      "\n",
      "shadeless - однотонный, открытый\n",
      "\n",
      "locus - геометрическое место точек, местоположение\n",
      "\n",
      "subaqueous - подводный, субаквальный\n"
     ]
    }
   ],
   "source": [
    "# выводим содержимое файла в кодировке windows-1251 в Windows\n",
    "list_dir = !type task_2.2_source\n",
    "\n",
    "for i in list_dir:\n",
    "    print i.decode('windows-1251').encode('windows-1251')"
   ]
  },
  {
   "cell_type": "markdown",
   "metadata": {},
   "source": [
    "# Сложный уровень"
   ]
  },
  {
   "cell_type": "markdown",
   "metadata": {},
   "source": [
    "## Задание 3.1\n",
    "\n",
    "Существует исследование, говорящее о том, что в словах текста можно произвольно переставить буквы (не затрагивая первую и последнюю), и от этого читабельность текста практически не ухудшится. Напишите функцию для проверки этого факта. Ваша функция должна получать на вход какой-нибудь текст (может быть и на русском языке) и переставлять буквы в его словах случайным образом. \n",
    "\n",
    "Если seed None, то буквы переставляются не случайным образом, а сортируются по алфавиту (латинские символы считаем меньше кириллических). Если seed не None, то нужно использовать это seed при инициализации рандома. Сравните результаты.\n",
    "\n",
    "##### будем считать, что текст это последовательность кириллических и латинских символов разделённая пробелом\n",
    "##### вам потребуется модуль random и функции random.seed и random.shuffle\n",
    "##### проверьте результат работы на не юникодовских строчках и объясните результат"
   ]
  },
  {
   "cell_type": "code",
   "execution_count": 40,
   "metadata": {
    "collapsed": true
   },
   "outputs": [],
   "source": [
    "text = \"\"\"The string module contains a number of useful constants and classes, as well as some deprecated legacy \n",
    "functions that are also available as methods on strings. In addition, Python’s built-in string classes support \n",
    "the sequence type methods described in the Sequence Types — str, unicode, list, tuple, bytearray, buffer, \n",
    "xrange section, and also the string-specific methods described in the String Methods section. \n",
    "To output formatted strings use template strings or the % operator described in the String \n",
    "Formatting Operations section. Also, see the re module for string functions based on regular expressions.\n",
    "\"\"\""
   ]
  },
  {
   "cell_type": "code",
   "execution_count": 41,
   "metadata": {
    "collapsed": true
   },
   "outputs": [],
   "source": [
    "import random\n",
    "\n",
    "def text_shuffle(text, seed=None):\n",
    "    # список для записи результата\n",
    "    res = list()\n",
    "    # для каждой строки\n",
    "    for line in text.split('\\n'):\n",
    "        # делим на слова через пробел\n",
    "        for elem in line.split(' '):\n",
    "            # для слов более 3 символов берем список от строки между 1 и последним символом\n",
    "            if len(elem.strip()) > 3:\n",
    "                s = elem[-1:]\n",
    "                # если посл. буква в слове \".\" или \",\", то отсекаем их + еще букву\n",
    "                if s == '.' or s == ',':\n",
    "                    x = list(elem[1:-2])\n",
    "                else:\n",
    "                    x = list(elem[1:-1])\n",
    "                # если seed задан, то уст. его для рандома и перемешиваем строку выше, иначе сортируем список(буквы)\n",
    "                if seed <> None:\n",
    "                    random.seed(seed)\n",
    "                    random.shuffle(x) \n",
    "                else:\n",
    "                    x = sorted(x)\n",
    "                # записываем результирующую строку + пробел\n",
    "                if s == '.' or s == ',':\n",
    "                    res.append(elem[0:1] + ''.join(x) + elem[-2:] + ' ')\n",
    "                else:\n",
    "                    res.append(elem[0:1] + ''.join(x) + elem[-1:] + ' ')\n",
    "            else:\n",
    "                res.append(elem + ' ')\n",
    "        res.append('\\n')\n",
    "    return ''.join(res)"
   ]
  },
  {
   "cell_type": "code",
   "execution_count": 42,
   "metadata": {
    "collapsed": false
   },
   "outputs": [
    {
     "data": {
      "text/plain": [
       "'The sinrtg mdloue cainnots a nbemur of uefsul cannostts and caelsss, as well as smoe daceeeprtd lacegy  \\nfcinnotus taht are also aaabillve as mdehots on sginrts. In addiiotn, Phnoty\\x80\\x99\\xe2s b-iiltun sinrtg caelsss sopprut  \\nthe sceenque tpye mdehots dbceeirsd in the Sceenque Tepys \\xe2\\x80\\x94 str, ucdinoe, list, tlpue, baaerrtyy, beffur,  \\nxagnre sceiotn, and also the s-cefgiiinprstc mdehots dbceeirsd in the Sinrtg Mdehots sceiotn.  \\nTo optuut faemorttd sginrts use taelmpte sginrts or the % oaeoprtr dbceeirsd in the Sinrtg  \\nFaimnorttg Oaeinoprts sceiotn. Also, see the re mdloue for sinrtg fcinnotus baesd on raeglur eeinoprssxs \\n \\n'"
      ]
     },
     "execution_count": 42,
     "metadata": {},
     "output_type": "execute_result"
    }
   ],
   "source": [
    "# запустим функцию без параметра seed на text выше( без кириллических символов)\n",
    "text_shuffle(text)"
   ]
  },
  {
   "cell_type": "code",
   "execution_count": 43,
   "metadata": {
    "collapsed": false
   },
   "outputs": [
    {
     "name": "stdout",
     "output_type": "stream",
     "text": [
      "The sinrtg mdloue cainnots a nbemur of uefsul cannostts and caelsss, as well as smoe daceeeprtd lacegy  \n",
      "fcinnotus taht are also aaabillve as mdehots on sginrts. In addiiotn, Phnoty���s b-iiltun sinrtg caelsss sopprut  \n",
      "the sceenque tpye mdehots dbceeirsd in the Sceenque Tepys — str, ucdinoe, list, tlpue, baaerrtyy, beffur,  \n",
      "xagnre sceiotn, and also the s-cefgiiinprstc mdehots dbceeirsd in the Sinrtg Mdehots sceiotn.  \n",
      "To optuut faemorttd sginrts use taelmpte sginrts or the % oaeoprtr dbceeirsd in the Sinrtg  \n",
      "Faimnorttg Oaeinoprts sceiotn. Also, see the re mdloue for sinrtg fcinnotus baesd on raeglur eeinoprssxs \n",
      " \n",
      "\n"
     ]
    }
   ],
   "source": [
    "# запустим print для функции\n",
    "print text_shuffle(text, seed=None)"
   ]
  },
  {
   "cell_type": "code",
   "execution_count": 45,
   "metadata": {
    "collapsed": false
   },
   "outputs": [
    {
     "name": "stdout",
     "output_type": "stream",
     "text": [
      "The sitnrg muolde cianotns a nbuemr of ufsuel ctnatosns and cssleas, as wlel as smoe dcetapeerd laecgy  \n",
      "ftoinucns taht are aslo albalviae as mohedts on snitgrs. In aitodidn, Pn���tyohs b-tiulin sitnrg cssleas sopurpt  \n",
      "the sneceuqe tpye mohedts drbieecsd in the Sneceuqe Tpeys — str, uocndie, lsit, tplue, barrayety, bfuefr,  \n",
      "xnrgae siteocn, and aslo the scgfispreiit-nc mohedts drbieecsd in the Sitnrg Mohedts siteocn.  \n",
      "To opuutt fatteomrd snitgrs use taltepme snitgrs or the % otaoprer drbieecsd in the Sitnrg  \n",
      "Ftnitroamg Otnoiepars siteocn. Aslo, see the re muolde for sitnrg ftoinucns bsead on rlueagr epsosinxers \n",
      " \n",
      "\n"
     ]
    }
   ],
   "source": [
    "# запустим print для функции С параметром seed\n",
    "print text_shuffle(text, seed=45)"
   ]
  },
  {
   "cell_type": "code",
   "execution_count": 46,
   "metadata": {
    "collapsed": true
   },
   "outputs": [],
   "source": [
    "# создадим text (и латинские и кириллица)\n",
    "text = \"\"\"Python 3: Генерация случайных чисел (модуль random)\n",
    "«Генерация случайных чисел слишком важна, чтобы оставлять её на волю случая»\n",
    "—  Роберт Кавью\n",
    "Python порождает случайные числа на основе формулы, так что они не на самом деле случайные, а, как говорят,\n",
    "псевдослучайные [1]. Этот способ удобен для большинства приложений (кроме онлайновых казино) [2].\n",
    "[1] Википедия: Генератор псевдослучайных чисел \n",
    "[2] Доусон М. Программируем на Python. — СПб.: Питер, 2014. — 416 с.: ил. — 3-е изд \n",
    "Модуль random позволяет генерировать случайные числа. Прежде чем использовать модуль, \n",
    "необходимо подключить его с помощью инструкции:\n",
    "\"\"\""
   ]
  },
  {
   "cell_type": "code",
   "execution_count": 47,
   "metadata": {
    "collapsed": false
   },
   "outputs": [
    {
     "data": {
      "text/plain": [
       "'Photyn 3: \\xd0\\x80\\x86\\x93\\xb0\\xb5\\xb5\\xb8\\xbd\\xd0\\xd0\\xd0\\xd0\\xd0\\xd1\\xd1\\xd1\\x8f \\xd1\\x81\\x83\\x87\\x8b\\xb0\\xb9\\xbb\\xbd\\xd0\\xd0\\xd0\\xd0\\xd1\\xd1\\xd1\\xd1\\x85 \\xd1\\x81\\x87\\xb5\\xb8\\xd0\\xd0\\xd0\\xd1\\xbb (\\x83\\xb4\\xbb\\xbc\\xbe\\xd0\\xd0\\xd0\\xd0\\xd1\\xd1\\x8c radmno) \\n\\xc2\\x80\\x86\\x93\\xab\\xb0\\xb5\\xb5\\xb8\\xbd\\xd0\\xd0\\xd0\\xd0\\xd0\\xd0\\xd1\\xd1\\xd1\\x8f \\xd1\\x81\\x83\\x87\\x8b\\xb0\\xb9\\xbb\\xbd\\xd0\\xd0\\xd0\\xd0\\xd1\\xd1\\xd1\\xd1\\x85 \\xd1\\x81\\x87\\xb5\\xb8\\xd0\\xd0\\xd0\\xd1\\xbb \\xd1\\x81\\x88\\xb8\\xba\\xbb\\xbe\\xd0\\xd0\\xd0\\xd0\\xd0\\xd1\\xbc \\xd0\\xb0\\xb2\\xb6\\xbd\\xd0\\xd0\\xd0\\xd0\\xb0, \\xd1\\x82\\x87\\xb1\\xbe\\xd0\\xd0\\xd1\\xd1\\x8b \\xd0\\x81\\x82\\x82\\x8f\\xb0\\xb2\\xbb\\xbe\\xd0\\xd0\\xd0\\xd1\\xd1\\xd1\\xd1\\xd1\\x8c \\xd0\\xb5\\xd1\\x91 \\xd0\\xbd\\xd0\\xb0 \\xd0\\xb2\\xbb\\xbe\\xd0\\xd0\\xd1\\x8e \\xd1\\x81\\x83\\x87\\x8f\\xb0\\xbb\\xc2\\xd0\\xd0\\xd1\\xd1\\xd1\\xbb \\n\\xe2\\x80\\x94  \\xd0\\x80\\xa0\\xb1\\xb5\\xbe\\xd0\\xd0\\xd0\\xd1\\xd1\\x82 \\xd0\\x8c\\x9a\\xb0\\xb2\\xd0\\xd0\\xd1\\xd1\\x8e \\nPhotyn \\xd0\\x80\\xb0\\xb4\\xb5\\xb6\\xbe\\xbe\\xbf\\xd0\\xd0\\xd0\\xd0\\xd0\\xd0\\xd1\\xd1\\x82 \\xd1\\x81\\x83\\x87\\x8b\\xb0\\xb9\\xbb\\xbd\\xd0\\xd0\\xd0\\xd0\\xd0\\xd1\\xd1\\xd1\\xb5 \\xd1\\x81\\x87\\xb8\\xbb\\xd0\\xd0\\xd0\\xd1\\xb0 \\xd0\\xbd\\xd0\\xb0 \\xd0\\x81\\xb2\\xbd\\xbe\\xbe\\xd0\\xd0\\xd0\\xd0\\xd1\\xb5 \\xd1\\x80\\x83\\x84\\xbb\\xbc\\xbe\\xd0\\xd0\\xd0\\xd1\\xd1\\xd1\\x8b, \\xd1\\x82\\xb0\\xd0\\xd0\\xba \\xd1\\x82\\x87\\xd0\\xd1\\xbe \\xd0\\xbd\\xbe\\xd0\\xd0\\xb8 \\xd0\\xbd\\xd0\\xb5 \\xd0\\xbd\\xd0\\xb0 \\xd1\\x81\\xb0\\xbc\\xbe\\xd0\\xd0\\xd0\\xd0\\xbc \\xd0\\xb4\\xb5\\xbb\\xd0\\xd0\\xd0\\xb5 \\xd1\\x81\\x83\\x87\\x8b\\xb0\\xb9\\xbb\\xbd\\xd0\\xd0\\xd0\\xd0\\xd0\\xd1\\xd1\\xd1\\xb5, \\xd0\\xb0, \\xd0\\xb0\\xba\\xd0\\xd0\\xba \\xd0\\x80\\x8f\\xb2\\xb3\\xbe\\xbe\\xd0\\xd0\\xd0\\xd1\\xd1\\xd1\\x82, \\n\\xd0\\x81\\x81\\x83\\x87\\x8b\\xb0\\xb2\\xb4\\xb5\\xb9\\xbb\\xbd\\xbe\\xbf\\xd0\\xd0\\xd0\\xd0\\xd0\\xd0\\xd0\\xd0\\xd0\\xd1\\xd1\\xd1\\xd1\\xd1\\xb5 [1]. \\xd0\\x82\\xad\\xbe\\xd0\\xd1\\xd1\\x82 \\xd1\\x81\\x81\\xbe\\xbe\\xbf\\xd0\\xd0\\xd0\\xd0\\xd1\\xb1 \\xd1\\x83\\xb1\\xb4\\xb5\\xbe\\xd0\\xd0\\xd0\\xd0\\xd0\\xbd \\xd0\\xb4\\xbb\\xd0\\xd1\\x8f \\xd0\\x81\\x82\\x88\\x8c\\xb1\\xb2\\xb8\\xbb\\xbd\\xbe\\xd0\\xd0\\xd0\\xd0\\xd0\\xd0\\xd1\\xd1\\xd1\\xd1\\xb0 \\xd0\\x80\\xb5\\xb6\\xb8\\xb8\\xbb\\xbd\\xbe\\xbf\\xd0\\xd0\\xd0\\xd0\\xd0\\xd0\\xd0\\xd0\\xd1\\xb9 (\\x80\\xba\\xbc\\xbe\\xd0\\xd0\\xd0\\xd0\\xd1\\xb5 \\xd0\\x8b\\xb0\\xb2\\xb9\\xbb\\xbd\\xbd\\xbe\\xbe\\xd0\\xd0\\xd0\\xd0\\xd0\\xd0\\xd0\\xd1\\xd1\\x85 \\xd0\\xb0\\xb7\\xb8\\xba\\xbd\\xbe\\xd0\\xd0\\xd0\\xd0\\xd0) [2]. \\n[1] \\xd0\\x8f\\x92\\xb4\\xb5\\xb8\\xb8\\xb8\\xba\\xbf\\xd0\\xd0\\xd0\\xd0\\xd0\\xd0\\xd0\\xd1: \\xd0\\x80\\x82\\x93\\xb0\\xb5\\xb5\\xbd\\xbe\\xd0\\xd0\\xd0\\xd0\\xd0\\xd1\\xd1\\xd1\\x80 \\xd0\\x81\\x81\\x83\\x87\\x8b\\xb0\\xb2\\xb4\\xb5\\xb9\\xbb\\xbd\\xbe\\xbf\\xd0\\xd0\\xd0\\xd0\\xd0\\xd0\\xd0\\xd0\\xd1\\xd1\\xd1\\xd1\\xd1\\xd1\\x85 \\xd1\\x81\\x87\\xb5\\xb8\\xd0\\xd0\\xd0\\xd1\\xbb  \\n[2] \\xd0\\x81\\x83\\x94\\xbe\\xbe\\xd0\\xd0\\xd0\\xd1\\xd1\\xbd \\xd0\\x9c. \\xd0\\x80\\x80\\x80\\x83\\x9f\\xb0\\xb3\\xb5\\xb8\\xbc\\xbc\\xbe\\xd0\\xd0\\xd0\\xd0\\xd0\\xd0\\xd0\\xd0\\xd1\\xd1\\xd1\\xd1\\xbc \\xd0\\xbd\\xd0\\xb0 Photyn. \\xe2\\x80\\x94 \\xd0.\\x9f\\xa1\\xb1\\xd0\\xd0: \\xd0\\x82\\x9f\\xb5\\xb8\\xd0\\xd0\\xd1\\xd1\\x80, 2014. \\xe2\\x80\\x94 416 \\xd1.\\x81: \\xd0\\xb8\\xd0\\xbb. \\xe2\\x80\\x94 3-\\xd0\\xb5 \\xd0\\xb7\\xb8\\xd0\\xd0\\xb4  \\n\\xd0\\x83\\x9c\\xb4\\xbb\\xbe\\xd0\\xd0\\xd0\\xd1\\xd1\\x8c radnom \\xd0\\x8f\\xb2\\xb5\\xb7\\xbb\\xbe\\xbe\\xbf\\xd0\\xd0\\xd0\\xd0\\xd0\\xd0\\xd1\\xd1\\x82 \\xd0\\x80\\x80\\x82\\xb0\\xb2\\xb3\\xb5\\xb5\\xb8\\xbd\\xbe\\xd0\\xd0\\xd0\\xd0\\xd0\\xd0\\xd0\\xd1\\xd1\\xd1\\xd1\\x8c \\xd1\\x81\\x83\\x87\\x8b\\xb0\\xb9\\xbb\\xbd\\xd0\\xd0\\xd0\\xd0\\xd0\\xd1\\xd1\\xd1\\xb5 \\xd1\\x81\\x87\\xb8\\xbb\\xd0\\xd0\\xd0\\xd1\\xb0. \\xd0\\x80\\x9f\\xb4\\xb5\\xb6\\xd0\\xd0\\xd0\\xd0\\xd1\\xb5 \\xd1\\x87\\xb5\\xd0\\xd0\\xbc \\xd0\\x81\\x82\\x8c\\xb0\\xb2\\xb7\\xb8\\xbb\\xbe\\xbe\\xbf\\xd0\\xd0\\xd0\\xd0\\xd0\\xd0\\xd0\\xd1\\xd1\\xd1\\xd1\\x8c \\xd0\\x83\\xb4\\xbb\\xbc\\xbe\\xd0\\xd0\\xd0\\xd1\\xd1\\x8c,  \\n\\xd0\\x85\\xb1\\xb4\\xb5\\xb8\\xbc\\xbd\\xbe\\xbe\\xd0\\xd0\\xd0\\xd0\\xd0\\xd0\\xd0\\xd0\\xd1\\xbe \\xd0\\x82\\x87\\x8e\\xb4\\xb8\\xba\\xbb\\xbe\\xbf\\xd0\\xd0\\xd0\\xd0\\xd0\\xd1\\xd1\\xd1\\xd1\\x8c \\xd0\\xb3\\xb5\\xd0\\xd0\\xbe \\xd1\\x81 \\xd0\\x89\\x8c\\xbc\\xbe\\xbe\\xbf\\xd0\\xd0\\xd0\\xd1\\xd1\\xd1\\x8e \\xd0\\x80\\x81\\x82\\x83\\x86\\xb8\\xb8\\xb8\\xba\\xbd\\xd0\\xd0\\xd0\\xd0\\xd1\\xd1\\xd1\\xd1\\xd1: \\n \\n'"
      ]
     },
     "execution_count": 47,
     "metadata": {},
     "output_type": "execute_result"
    }
   ],
   "source": [
    "# запустим функцию без параметра seed на text выше\n",
    "text_shuffle(text)"
   ]
  },
  {
   "cell_type": "code",
   "execution_count": 48,
   "metadata": {
    "collapsed": false
   },
   "outputs": [
    {
     "name": "stdout",
     "output_type": "stream",
     "text": [
      "Photyn 3: Ѐ��������������я с��������������х с������ѻ (����������ь radmno) \n",
      "����������������я с��������������х с������ѻ с����������Ѽ а������а, т������ы Ё��������������ь её на в����ю с����������ѻ \n",
      "—  Ѐ��������т Ќ������ю \n",
      "Photyn Ѐ��������������т с��������������ѵ с������Ѱ на Ё��������ѵ р����������ы, т��к т��Ѿ н��и не на с������м д����е с��������������ѵ, а, а��к Ѐ����������т, \n",
      "Ё��������������������������ѵ [1]. Ђ����т с��������ѱ у��������н д��я Ё������������������Ѱ Ѐ����������������ѹ (��������ѵ Ћ����������������х а����������) [2]. \n",
      "[1] Џ����������������: Ѐ��������������р Ё��������������������������х с������ѻ  \n",
      "[2] Ё��������ѽ М. Ѐ����������������������Ѽ на Photyn. — �.�����: Ђ������р, 2014. — 416 �.�: ил. — 3-е з��д  \n",
      "Ѓ��������ь radnom Џ��������������т Ѐ��������������������ь с��������������ѵ с������Ѱ. Ѐ��������ѵ ч��м Ё��������������������ь Ѓ��������ь,  \n",
      "Ѕ����������������Ѿ Ђ����������������ь г��о с Љ����������ю Ѐ������������������: \n",
      " \n",
      "\n"
     ]
    }
   ],
   "source": [
    "# запустим print для функции без параметра seed на text выше\n",
    "print text_shuffle(text)"
   ]
  },
  {
   "cell_type": "code",
   "execution_count": 49,
   "metadata": {
    "collapsed": false
   },
   "outputs": [
    {
     "name": "stdout",
     "output_type": "stream",
     "text": [
      "Pyohtn 3: ��н��Ѹ���Ѱ��е� ��Ѓ��ы���й��ч� Ѹ����еѻ (��ѴоѼ��Ќ rmadon) \n",
      "�и���е�ѓ������н� ��Ѓ��ы���й��ч� Ѹ����еѻ �л��ЁЈк��� а����на, т����бЋ ��т��т���л��Ѱ� �ѵ� �н� ��вл�� �ѻ��Ёа��� \n",
      "—  �ѱ����е�Ђ а����ьЎ \n",
      "Pyohtn ��Ѐ��ѵ���д��о� ��Ѓ��Ћ���й��ч� Ѹ����лѰ �н� �н����Ѿ�е �Ѿ��фѼЃ���, так чЂѾ они �н� �н� Ѱ����ом ��дл�� ��Ѓ��Ћ���й��ч�, а, как �о��ѳѾЀ���, \n",
      "йЇѵ�ЁѴ�ву���нп����Ѿ� [1]. ��ѭо�� �о����Ё�б �о����б�н дѻЏ �Ји����ѻЂ�������Ѱ �и���и�Ѐ������л� (����к���� �Ћ���л�н������Ѱ� н��ки��з) [2]. \n",
      "[1] к�Џ��ѿ�В�и���: ��н��Ѿ���Ѱ��е� йЇѵ�ЁѴ�ву���нп����Ѿ� Ѹ����еѻ  \n",
      "[2] �Ѓ����Ё�ѽ М. Ѐ���Ѱг������Ѓ���Ѿ��м �н� Pyohtn. — �.Сб�: и����ер, 2104. — 416 �.�: �и�. — 3�-� изд  \n",
      "�д����Ѓ�Ќ raodnm ��з��ѵ���л��в� �е��Ѱ�те��о��н�р� ��Ѓ��Ћ���й��ч� Ѹ����лѰ. �е����Ѷ�е чем �с��а�тѾ��о��п�ѻ� �д����Ѓ�Ќ,  \n",
      "�м���о�е������б� �Ђ���Ѵ�Ѿ������Ѻ� его с �о��ѿѾЉ��� Ђ�ЃѸ���ни��ц��: \n",
      " \n",
      "\n"
     ]
    }
   ],
   "source": [
    "# запустим print для функции с параметром seed на text выше\n",
    "print text_shuffle(text, seed=25)"
   ]
  },
  {
   "cell_type": "markdown",
   "metadata": {},
   "source": [
    "## Задание 3.2\n",
    "\n",
    "Напишите функцию, которая читает два файла построчно (то есть не загружая всё содержимое в память), и записывает в выходной файл результат лексиграфического сравнение срочки из первого файла и из второго (First, Second и Equal по аналогии c предыдущим ДЗ)."
   ]
  },
  {
   "cell_type": "code",
   "execution_count": 1,
   "metadata": {
    "collapsed": true
   },
   "outputs": [],
   "source": [
    "# создадим файл fisrt(исходный)\n",
    "text = \"\"\"unsubstantiated - необоснованный, бездоказательный\n",
    "\n",
    "shambolic - беспорядочный, хаотичный\n",
    "\n",
    "longer - дольше, долее\n",
    "\n",
    "swoosh - звук рассекаемого воздуха, свист\n",
    "\n",
    "brolly - зонтик, парашют\n",
    "stash - тайник, притон\n",
    "steeping - заваривание, замачивание\n",
    "decoction - отвар, отваривание\n",
    "shimmering - мерцающий\n",
    "yam - ямс, батат\n",
    "monogamy - моногамия, единобрачие\n",
    "monogamous - моногамный\n",
    "shadeless - однотонный, открытый\n",
    "locus - геометрическое место точек, местоположение\n",
    "subaqueous - подводный, субаквальный\n",
    "\"\"\"\n",
    "with open('task_3.2_fst_source', 'w') as f:\n",
    "    f.write(text)"
   ]
  },
  {
   "cell_type": "code",
   "execution_count": 2,
   "metadata": {
    "collapsed": true
   },
   "outputs": [],
   "source": [
    "# создадим файл second(исходный)\n",
    "text = \"\"\"unsubstantiated - необоснованный, бездоказательный\n",
    "\n",
    "shambolic - беспорядочный, хаотичный\n",
    "\n",
    "stash - тайник, притон\n",
    "steeping - заваривание, замачивание\n",
    "\n",
    "longer - дольше, долее\n",
    "swoosh - звук рассекаемого воздуха, свист\n",
    "brolly - зонтик, парашют\n",
    "decoction - отвар, отваривание\n",
    "shimmering - мерцающий\n",
    "yam - ямс, батат\n",
    "monogamous - моногамный\n",
    "shadeless - однотонный, открытый\n",
    "monogamy - моногамия, единобрачие\n",
    "locus - геометрическое место точек, местоположение\n",
    "subaqueous - подводный, субаквальный\n",
    "\"\"\"\n",
    "with open('task_3.2_snd_source', 'w') as f:\n",
    "    f.write(text)"
   ]
  },
  {
   "cell_type": "code",
   "execution_count": 3,
   "metadata": {
    "collapsed": false
   },
   "outputs": [
    {
     "name": "stdout",
     "output_type": "stream",
     "text": [
      " Том в устройстве C имеет метку OSDisk\n",
      " Серийный номер тома: 34E1-B0E9\n",
      "\n",
      " Содержимое папки C:\\Users\\yapermin\\My_Python\\ДЗ4\n",
      "\n",
      "12.06.2017  13:59    <DIR>          .\n",
      "12.06.2017  13:59    <DIR>          ..\n",
      "10.06.2017  13:44    <DIR>          .ipynb_checkpoints\n",
      "11.06.2017  10:23                18 task_1.1_source\n",
      "11.06.2017  10:29                89 task_1.2_source\n",
      "12.06.2017  10:59               808 task_2.2_source\n",
      "12.06.2017  14:00               788 task_3.2_fst_source\n",
      "12.06.2017  14:00               786 task_3.2_snd_source\n",
      "11.06.2017  10:16    <DIR>          test1\n",
      "12.06.2017  13:59            11 298 Untitled.ipynb\n",
      "12.06.2017  13:59            52 425 yaperminДЗ4.ipynb\n",
      "               7 файлов         66 212 байт\n",
      "               4 папок  263 051 964 416 байт свободно\n"
     ]
    }
   ],
   "source": [
    "# выводим содержимоее папки в Windows\n",
    "list_dir = !dir\n",
    "\n",
    "for i in list_dir:\n",
    "    print i.decode('IBM866')"
   ]
  },
  {
   "cell_type": "code",
   "execution_count": 4,
   "metadata": {
    "collapsed": true
   },
   "outputs": [],
   "source": [
    "import os\n",
    "\n",
    "# функция сравнения строк\n",
    "def sravn(x,y):\n",
    "    if x < y:\n",
    "        return('First')\n",
    "    elif x > y:\n",
    "        return('Second')\n",
    "    else:\n",
    "        return('Equal')\n",
    "\n",
    "# сравнение строк в двух файлах и запись в тратеий файл по пути назначения результатов сравнения\n",
    "def process(fst_source_path, snd_source_path, target_path):\n",
    "    # зададим файлу имя\n",
    "    fname ='task_3.2_sravn'\n",
    "    # список для записи результата\n",
    "    res_list = list()\n",
    "    \n",
    "    # проверим и создадим недостающие папки для пути нового файла\n",
    "    if not os.path.exists(target_path):\n",
    "        os.makedirs(target_path)\n",
    "    \n",
    "    # откроем файл и для каждой строчки из него\n",
    "    with open('task_3.2_fst_source', 'r') as ffst:\n",
    "        x = 0\n",
    "        for line in ffst:\n",
    "            # убираем лишние пробелы\n",
    "            a = line.strip()\n",
    "            # откроем второй файл\n",
    "            with open('task_3.2_snd_source', 'r') as fsnd:\n",
    "                # встанем на позицию x в файле и считаем строку\n",
    "                fsnd.seek(x)\n",
    "                b = str(fsnd.readline()).strip()\n",
    "                # запомним позицию после считывания\n",
    "                x = fsnd.tell()\n",
    "            # сравним две строки файлов и запишем в список результатов\n",
    "            res_list.append(sravn(a,b) + '\\n')\n",
    "\n",
    "    # запишем содержимое списка в новый файл\n",
    "    with open(os.path.join(target_path, fname), 'w') as ff:\n",
    "        for elem in res_list:\n",
    "            ff.write(elem)\n",
    "    return"
   ]
  },
  {
   "cell_type": "code",
   "execution_count": 5,
   "metadata": {
    "collapsed": false
   },
   "outputs": [
    {
     "name": "stdout",
     "output_type": "stream",
     "text": [
      " Том в устройстве C имеет метку OSDisk\n",
      " Серийный номер тома: 34E1-B0E9\n",
      "\n",
      " Содержимое папки C:\\Users\\yapermin\\My_Python\\ДЗ4\\test1\\test2\\test3\\test4\n",
      "\n",
      "12.06.2017  12:27    <DIR>          .\n",
      "12.06.2017  12:27    <DIR>          ..\n",
      "11.06.2017  10:24                18 task_1.1_copy\n",
      "12.06.2017  14:06               139 task_3.2_sravn\n",
      "               2 файлов            157 байт\n",
      "               2 папок  263 050 428 416 байт свободно\n"
     ]
    }
   ],
   "source": [
    "# запустим функцию для исходных файлов выше с Target_path для примера test1/test2/test3/test4/\n",
    "process('task_3.2_fst_source', 'task_3.2_snd_source', 'test1/test2/test3/test4/')\n",
    "\n",
    "# выводим содержимоее папки назначения в Windows\n",
    "list_dir = !dir test1\\test2\\test3\\test4\\\n",
    "\n",
    "for i in list_dir:\n",
    "    print i.decode('IBM866')"
   ]
  },
  {
   "cell_type": "code",
   "execution_count": 6,
   "metadata": {
    "collapsed": false
   },
   "outputs": [
    {
     "name": "stdout",
     "output_type": "stream",
     "text": [
      "Equal\n",
      "Equal\n",
      "Equal\n",
      "Equal\n",
      "First\n",
      "First\n",
      "Second\n",
      "First\n",
      "First\n",
      "Second\n",
      "Second\n",
      "First\n",
      "First\n",
      "Second\n",
      "First\n",
      "First\n",
      "Second\n",
      "First\n",
      "Second\n"
     ]
    }
   ],
   "source": [
    "# созданный файл сравнени в Windows \n",
    "!type test1\\test2\\test3\\test4\\task_3.2_sravn"
   ]
  }
 ],
 "metadata": {
  "anaconda-cloud": {},
  "kernelspec": {
   "display_name": "Python 2",
   "language": "python",
   "name": "python2"
  },
  "language_info": {
   "codemirror_mode": {
    "name": "ipython",
    "version": 2
   },
   "file_extension": ".py",
   "mimetype": "text/x-python",
   "name": "python",
   "nbconvert_exporter": "python",
   "pygments_lexer": "ipython2",
   "version": "2.7.13"
  }
 },
 "nbformat": 4,
 "nbformat_minor": 2
}
