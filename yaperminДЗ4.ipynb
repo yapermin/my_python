{
 "cells": [
  {
   "cell_type": "markdown",
   "metadata": {},
   "source": [
    "### Большая часть задач требует операций с файлами, поэтому для воспроизводимости результатов работы вашего кода эти файлы нужно создавать\n",
    "\n",
    "### Можете их всех создавать в текущей папке, быстро и удобно это можно сделать таким способом:"
   ]
  },
  {
   "cell_type": "code",
   "execution_count": 1,
   "metadata": {
    "collapsed": false
   },
   "outputs": [],
   "source": [
    "text = \"\"\"123\n",
    "4567\n",
    " 8910\n",
    "\"\"\"\n",
    "with open('task_1.1_source', 'w') as f:\n",
    "    f.write(text)"
   ]
  },
  {
   "cell_type": "code",
   "execution_count": 2,
   "metadata": {
    "collapsed": false
   },
   "outputs": [
    {
     "name": "stderr",
     "output_type": "stream",
     "text": [
      "\"cat\" ­Ґ пў«пҐвбп ў­гваҐ­­Ґ© Ё«Ё ў­Ґи­Ґ©\n",
      "Є®¬ ­¤®©, ЁбЇ®«­пҐ¬®© Їа®Ја ¬¬®© Ё«Ё Ї ЄҐв­л¬ д ©«®¬.\n"
     ]
    }
   ],
   "source": [
    "!cat task_1.1_source"
   ]
  },
  {
   "cell_type": "code",
   "execution_count": 3,
   "metadata": {
    "collapsed": false
   },
   "outputs": [
    {
     "name": "stdout",
     "output_type": "stream",
     "text": [
      "123\n",
      "4567\n",
      " 8910\n"
     ]
    }
   ],
   "source": [
    "# в Windows \n",
    "!type task_1.1_source"
   ]
  },
  {
   "cell_type": "markdown",
   "metadata": {},
   "source": [
    "# Базовый уровень"
   ]
  },
  {
   "cell_type": "markdown",
   "metadata": {},
   "source": [
    "## Задание 1.1\n",
    "\n",
    "Напишите функцию, копирующую файл\n",
    "\n",
    "source_path должен существовать, а отсутствующие промежуточные папки из target_path должны быть созданы\n",
    "\n",
    "Подсказка: можно прочитать исходный файл и записать в новый. \n",
    "\n",
    "Опциональное усложнение: попробуйте написать так, чтобы функция работала и с большими файлами (нужно, чтобы содежимое файла не считывалось полностью в память)"
   ]
  },
  {
   "cell_type": "code",
   "execution_count": 4,
   "metadata": {
    "collapsed": true
   },
   "outputs": [],
   "source": [
    "import os\n",
    "\n",
    "def copy_file(source_path, target_path):\n",
    "    # зададим файлу имя\n",
    "    fname ='task_1.1_copy'\n",
    "    # считаем содержимое старого файла в список\n",
    "    read = list()\n",
    "    with open(source_path, 'r') as ff:\n",
    "        for line in ff:\n",
    "            read.append(line)\n",
    "    \n",
    "    # проверим и создадим недостающие папки для пути нового файла\n",
    "    if not os.path.exists(target_path):\n",
    "        os.makedirs(target_path)\n",
    "    \n",
    "    # запишем содержимое списка в новый файл\n",
    "    with open(os.path.join(target_path, fname), 'w') as ff:\n",
    "        for elem in read:\n",
    "            ff.write(elem)\n",
    "    print \"Файл \" + source_path + \" скопирован в директорию \" + target_path + \" c именем \" + fname\n",
    "    return"
   ]
  },
  {
   "cell_type": "code",
   "execution_count": 5,
   "metadata": {
    "collapsed": false
   },
   "outputs": [
    {
     "name": "stdout",
     "output_type": "stream",
     "text": [
      "Файл task_1.1_source скопирован в директорию test1/test2/test3/test4 c именем task_1.1_copy\n"
     ]
    }
   ],
   "source": [
    "# вызываем функцию копирования файла в директорию\n",
    "copy_file('task_1.1_source', 'test1/test2/test3/test4')"
   ]
  },
  {
   "cell_type": "code",
   "execution_count": 6,
   "metadata": {
    "collapsed": false
   },
   "outputs": [
    {
     "name": "stdout",
     "output_type": "stream",
     "text": [
      " Том в устройстве C имеет метку OSDisk\n",
      " Серийный номер тома: 34E1-B0E9\n",
      "\n",
      " Содержимое папки C:\\Users\\yapermin\\My_Python\\ДЗ4\\test1\\test2\\test3\\test4\n",
      "\n",
      "11.06.2017  10:24    <DIR>          .\n",
      "11.06.2017  10:24    <DIR>          ..\n",
      "11.06.2017  10:24                18 task_1.1_copy\n",
      "               1 файлов             18 байт\n",
      "               2 папок  261 352 685 568 байт свободно\n"
     ]
    }
   ],
   "source": [
    "# выводим содержимоее папки назначения в Windows\n",
    "list_dir = !dir test1\\test2\\test3\\test4\n",
    "\n",
    "for i in list_dir:\n",
    "    print i.decode('IBM866')"
   ]
  },
  {
   "cell_type": "code",
   "execution_count": 7,
   "metadata": {
    "collapsed": false
   },
   "outputs": [
    {
     "name": "stdout",
     "output_type": "stream",
     "text": [
      "123\n",
      "4567\n",
      " 8910\n"
     ]
    }
   ],
   "source": [
    "# исходный файл в Windows \n",
    "!type task_1.1_source"
   ]
  },
  {
   "cell_type": "code",
   "execution_count": 8,
   "metadata": {
    "collapsed": false
   },
   "outputs": [
    {
     "name": "stdout",
     "output_type": "stream",
     "text": [
      "123\n",
      "4567\n",
      " 8910\n"
     ]
    }
   ],
   "source": [
    "# скопированный файл в Windows \n",
    "!type test1\\test2\\test3\\test4\\task_1.1_copy"
   ]
  },
  {
   "cell_type": "markdown",
   "metadata": {},
   "source": [
    "## Задание 1.2\n",
    "\n",
    "##### В файле source_path находится англо-латинский словарь, то есть список слов на английском языке и их переводы на латинский язык (переводов может быть несколько). Необходимо создать из него латино-английский словарь по пути target_path. Например, из словаря\n",
    "\n",
    "\n",
    "\n",
    "apple - malum, pomum, popula\n",
    "\n",
    "fruit - baca, bacca, popum\n",
    "\n",
    "punishment - malum, multa\n",
    "\n",
    "\n",
    "\n",
    "##### нужно сделать словарь.\n",
    "\n",
    "baca - fruit\n",
    "\n",
    "bacca - fruit\n",
    "\n",
    "malum - apple, punishment\n",
    "\n",
    "multa - punishment\n",
    "\n",
    "pomum - apple\n",
    "\n",
    "popula - apple\n",
    "\n",
    "popum - fruit\n",
    "\n",
    "##### Не забудьте, что слова нужно расположить в алфавитном порядке.\n",
    "##### Будет полезна функция strip у строки для удаления пробелов\n"
   ]
  },
  {
   "cell_type": "code",
   "execution_count": 10,
   "metadata": {
    "collapsed": true
   },
   "outputs": [],
   "source": [
    "text = \"\"\"apple - malum, pomum, popula\n",
    "\n",
    "fruit - baca, bacca, popum\n",
    "\n",
    "punishment - malum, multa\n",
    "\"\"\"\n",
    "with open('task_1.2_source', 'w') as f:\n",
    "    f.write(text)"
   ]
  },
  {
   "cell_type": "code",
   "execution_count": 11,
   "metadata": {
    "collapsed": false
   },
   "outputs": [
    {
     "name": "stdout",
     "output_type": "stream",
     "text": [
      "apple - malum, pomum, popula\n",
      "\n",
      "fruit - baca, bacca, popum\n",
      "\n",
      "punishment - malum, multa\n"
     ]
    }
   ],
   "source": [
    "# исходный словарь в Windows \n",
    "!type task_1.2_source"
   ]
  },
  {
   "cell_type": "code",
   "execution_count": 9,
   "metadata": {
    "collapsed": true
   },
   "outputs": [],
   "source": [
    "import os\n",
    "\n",
    "def eng_lat_2_lat_eng(source_path, target_path):\n",
    "    # зададим файлу имя\n",
    "    fname ='task_1.2_lat_eng'\n",
    "    # считаем содержимое старого файла в список\n",
    "    read = dict()\n",
    "    with open(source_path, 'r') as ff:\n",
    "        for line in ff:\n",
    "            splitted_line = line.split(' - ')\n",
    "            if splitted_line[0].strip() <> '':\n",
    "                read[splitted_line[0].strip()] = splitted_line[1].strip()\n",
    "    \n",
    "    # проверим и создадим недостающие папки для пути нового файла\n",
    "    if not os.path.exists(target_path):\n",
    "        os.makedirs(target_path)\n",
    "        \n",
    "    # запишем содержимое списка в новый файл\n",
    "    with open(os.path.join(target_path, fname), 'w') as ff:\n",
    "        write = list()\n",
    "        for elem in read:\n",
    "            splitted_line = read[elem].split(', ')\n",
    "            for word in splitted_line:\n",
    "                write.append(word + ' - ' + elem + '\\n'+ '\\n')\n",
    "        for elem in sorted(write):\n",
    "            ff.write(elem)\n",
    "    return"
   ]
  },
  {
   "cell_type": "code",
   "execution_count": 12,
   "metadata": {
    "collapsed": true
   },
   "outputs": [],
   "source": [
    "# вызываем функцию\n",
    "eng_lat_2_lat_eng('task_1.2_source', 'test1/test2/test3/')"
   ]
  },
  {
   "cell_type": "code",
   "execution_count": 13,
   "metadata": {
    "collapsed": false
   },
   "outputs": [
    {
     "name": "stdout",
     "output_type": "stream",
     "text": [
      " Том в устройстве C имеет метку OSDisk\n",
      " Серийный номер тома: 34E1-B0E9\n",
      "\n",
      " Содержимое папки C:\\Users\\yapermin\\My_Python\\ДЗ4\\test1\\test2\\test3\n",
      "\n",
      "11.06.2017  10:24    <DIR>          .\n",
      "11.06.2017  10:24    <DIR>          ..\n",
      "11.06.2017  10:29               146 task_1.2_lat_eng\n",
      "11.06.2017  10:24    <DIR>          test4\n",
      "               1 файлов            146 байт\n",
      "               3 папок  261 352 583 168 байт свободно\n"
     ]
    }
   ],
   "source": [
    "# выводим содержимоее папки назначения в Windows\n",
    "list_dir = !dir test1\\test2\\test3\\\n",
    "\n",
    "for i in list_dir:\n",
    "    print i.decode('IBM866')"
   ]
  },
  {
   "cell_type": "code",
   "execution_count": 14,
   "metadata": {
    "collapsed": false
   },
   "outputs": [
    {
     "name": "stdout",
     "output_type": "stream",
     "text": [
      "baca - fruit\n",
      "\n",
      "bacca - fruit\n",
      "\n",
      "malum - apple\n",
      "\n",
      "malum - punishment\n",
      "\n",
      "multa - punishment\n",
      "\n",
      "pomum - apple\n",
      "\n",
      "popula - apple\n",
      "\n",
      "popum - fruit\n",
      "\n"
     ]
    }
   ],
   "source": [
    "# созданный lat-eng словарь в Windows \n",
    "!type test1\\test2\\test3\\task_1.2_lat_eng"
   ]
  },
  {
   "cell_type": "markdown",
   "metadata": {},
   "source": [
    "## Задание 1.3\n",
    "\n",
    "Напишите функцию, вычисляющую длину русского слова, независимо от его кодировки\n",
    "\n",
    "Если параметр encoding задан, то нужно декодировать текст при помощи этой кодировки. А если он не задан, то кодировку надо определить самостоятельно.\n",
    "\n",
    "##### Если кодировка не задана, то точное решение здесь написать не получится. Но можно воспользоваться функцией my_decoder из лекции"
   ]
  },
  {
   "cell_type": "code",
   "execution_count": 17,
   "metadata": {
    "collapsed": true
   },
   "outputs": [],
   "source": [
    "import chardet\n",
    "\n",
    "def my_decoder(val):\n",
    "    if type(val) is unicode:\n",
    "        return val\n",
    "    else:\n",
    "        return unicode(val, encoding=chardet.detect(val)['encoding'])\n",
    "    \n",
    "def my_len(word, encoding=None):\n",
    "    if encoding == None:\n",
    "        word = my_decoder(word)\n",
    "    else:\n",
    "        word = unicode(word, encoding=encoding)\n",
    "    return len(word)"
   ]
  },
  {
   "cell_type": "code",
   "execution_count": 18,
   "metadata": {
    "collapsed": false
   },
   "outputs": [
    {
     "data": {
      "text/plain": [
       "True"
      ]
     },
     "execution_count": 18,
     "metadata": {},
     "output_type": "execute_result"
    }
   ],
   "source": [
    "my_len('текст') == 5"
   ]
  },
  {
   "cell_type": "code",
   "execution_count": 19,
   "metadata": {
    "collapsed": false
   },
   "outputs": [
    {
     "data": {
      "text/plain": [
       "True"
      ]
     },
     "execution_count": 19,
     "metadata": {},
     "output_type": "execute_result"
    }
   ],
   "source": [
    "my_len(u'текст') == 5"
   ]
  },
  {
   "cell_type": "code",
   "execution_count": 20,
   "metadata": {
    "collapsed": false
   },
   "outputs": [
    {
     "data": {
      "text/plain": [
       "True"
      ]
     },
     "execution_count": 20,
     "metadata": {},
     "output_type": "execute_result"
    }
   ],
   "source": [
    "my_len(u'ааааа'.encode('utf_16'), encoding='utf_16') == 5"
   ]
  },
  {
   "cell_type": "code",
   "execution_count": 21,
   "metadata": {
    "collapsed": false
   },
   "outputs": [
    {
     "data": {
      "text/plain": [
       "True"
      ]
     },
     "execution_count": 21,
     "metadata": {},
     "output_type": "execute_result"
    }
   ],
   "source": [
    "my_len(u'текст'.encode('windows-1251')) == 5"
   ]
  },
  {
   "cell_type": "markdown",
   "metadata": {},
   "source": [
    "# Продвинутый уровень"
   ]
  },
  {
   "cell_type": "markdown",
   "metadata": {},
   "source": [
    "## Задание 2.1\n",
    "\n",
    "Напишите функцию, которая выписывает список файлов в данной директории и сортирует их в соответствии с их размером. Функция должна получать путь к директории в качестве аргумента и печатать на экран имена всех файлов в ней и их размеры, причем первыми должны идти файлы с наибольшими размерами, а в случае одинакового размер файлы сортируются по алфавиту.\n",
    "\n",
    "##### Указание. Изучите функции listdir и stat из модуля os и функции isfile и join из модуля os.path.\n"
   ]
  },
  {
   "cell_type": "code",
   "execution_count": 22,
   "metadata": {
    "collapsed": true
   },
   "outputs": [],
   "source": [
    "import os\n",
    "\n",
    "# функция для сохдания 6 файлов в директории, которую будем передавать в функцию, например: \\test1\\test2\\\n",
    "def create_file(dir_path):\n",
    "    # проверим и создадим недостающие папки для пути новых файла\n",
    "    if not os.path.exists(dir_path):\n",
    "        os.makedirs(dir_path)\n",
    "    \n",
    "    text = \"\"\"This module provides a portable way of using operating system dependent functionality. If you just want to read or write a file see open(), if you want to manipulate paths, see the os.path module, and if you want to read all the lines in all the files on the command line see the fileinput module. For creating temporary files and directories see the tempfile module, and for high-level file and directory handling see the shutil module.\n",
    "\n",
    "    Notes on the availability of these functions:\n",
    "    •The design of all built-in operating system dependent modules of Python is such that as long as the same functionality is available, it uses the same interface; for example, the function os.stat(path) returns stat information about path in the same format (which happens to have originated with the POSIX interface).\n",
    "    •Extensions peculiar to a particular operating system are also available through the os module, but using them is of course a threat to portability.\n",
    "    •An “Availability: Unix” note means that this function is commonly found on Unix systems. It does not make any claims about its existence on a specific operating system.\n",
    "    •If not separately noted, all functions that claim “Availability: Unix” are supported on Mac OS X, which builds on a Unix core.\n",
    "    \"\"\"\n",
    "    \n",
    "    with open(os.path.join(dir_path, 'task_2.1_source_1'), 'w') as f:\n",
    "        f.write(text)\n",
    "    \n",
    "    text = \"\"\"Note:\n",
    "     All functions in this module raise OSError in the case of invalid or inaccessible file names and paths, or other arguments that have the correct type, but are not accepted by the operating system.\n",
    "\n",
    "    exception os.error\n",
    "    An alias for the built-in OSError exception.\n",
    "    os.name\n",
    "    The name of the operating system dependent module imported. The following names have currently been registered: 'posix', 'nt', 'os2', 'ce', 'java', 'riscos'.\n",
    "\n",
    "    See also:\n",
    "     sys.platform has a finer granularity. os.uname() gives system-dependent version information.\n",
    "\n",
    "    The platform module provides detailed checks for the system’s identity.\n",
    "    \"\"\"\n",
    "    with open(os.path.join(dir_path, 'task_2.1_source_2'), 'w') as f:\n",
    "        f.write(text)\n",
    "\n",
    "    text = \"\"\"15.1.1. Process Parameters¶\n",
    "\n",
    "    These functions and data items provide information and operate on the current process and user.\n",
    "    os.environ\n",
    "    A mapping object representing the string environment. For example, environ['HOME'] is the pathname of your home directory (on some platforms), and is equivalent to getenv(\"HOME\") in C.\n",
    "\n",
    "    This mapping is captured the first time the os module is imported, typically during Python startup as part of processing site.py. Changes to the environment made after this time are not reflected in os.environ, except for changes made by modifying os.environ directly.\n",
    "\n",
    "    If the platform supports the putenv() function, this mapping may be used to modify the environment as well as query the environment. putenv() will be called automatically when the mapping is modified.\n",
    "    \"\"\"\n",
    "    with open(os.path.join(dir_path, 'task_2.1_source_3'), 'w') as f:\n",
    "        f.write(text)\n",
    "\n",
    "    text = \"\"\"\n",
    "    If putenv() is not provided, a modified copy of this mapping may be passed to the appropriate process-creation functions to cause child processes to use a modified environment.\n",
    "\n",
    "    If the platform supports the unsetenv() function, you can delete items in this mapping to unset environment variables. unsetenv() will be called automatically when an item is deleted from os.environ, and when one of the pop() or clear() methods is called.\n",
    "\n",
    "\n",
    "    Changed in version 2.6: Also unset environment variables when calling os.environ.clear() and os.environ.pop().\n",
    "    os.chdir(path)os.fchdir(fd)os.getcwd()\n",
    "    These functions are described in Files and Directories.\n",
    "    os.ctermid()\n",
    "    Return the filename corresponding to the controlling terminal of the process.\n",
    "\n",
    "    Availability: Unix.\n",
    "    os.getegid()\n",
    "    Return the effective group id of the current process. This corresponds to the “set id” bit on the file being executed in the current process.\n",
    "\n",
    "    Availability: Unix.\n",
    "    os.geteuid()\n",
    "    Return the current process’s effective user id.\n",
    "    \"\"\"\n",
    "    with open(os.path.join(dir_path, 'task_2.1_source_4'), 'w') as f:\n",
    "        f.write(text)\n",
    "\n",
    "    text = \"\"\"os.getgid()\n",
    "    Return the real group id of the current process.\n",
    "\n",
    "    Availability: Unix.\n",
    "    os.getgroups()\n",
    "    Return list of supplemental group ids associated with the current process.\n",
    "\n",
    "    Availability: Unix.\n",
    "\n",
    "    Note:\n",
    "     On Mac OS X, getgroups() behavior differs somewhat from other Unix platforms. If the Python interpreter was built with a deployment target of 10.5 or earlier, getgroups() returns the list of effective group ids associated with the current user process; this list is limited to a system-defined number of entries, typically 16, and may be modified by calls to setgroups() if suitably privileged. If built with a deployment target greater than 10.5, getgroups() returns the current group access list for the user associated with the effective user id of the process; the group access list may change over the lifetime of the process, it is not affected by calls to setgroups(), and its length is not limited to 16. The deployment target value, MACOSX_DEPLOYMENT_TARGET, can be obtained with sysconfig.get_config_var().\n",
    "    \"\"\"\n",
    "    with open(os.path.join(dir_path, 'task_2.1_source_5'), 'w') as f:\n",
    "        f.write(text)\n",
    "\n",
    "    text = \"\"\"initgroups(username, gid)\n",
    "    Call the system initgroups() to initialize the group access list with all of the groups of which the specified username is a member, plus the specified group id.\n",
    "\n",
    "    Availability: Unix.\n",
    "\n",
    "\n",
    "    New in version 2.7.\n",
    "    os.getlogin()\n",
    "    Return the name of the user logged in on the controlling terminal of the process. For most purposes, it is more useful to use the environment variable LOGNAME to find out who the user is, or pwd.getpwuid(os.getuid())[0] to get the login name of the process’s real user id.\n",
    "\n",
    "    Availability: Unix.\n",
    "    os.getpgid(pid)\n",
    "    Return the process group id of the process with process id pid. If pid is 0, the process group id of the current process is returned.\n",
    "\n",
    "    Availability: Unix.\n",
    "\n",
    "\n",
    "    New in version 2.3.\n",
    "    os.getpgrp()\n",
    "    Return the id of the current process group.\n",
    "\n",
    "    Availability: Unix.\n",
    "    os.getpid()\n",
    "    Return the current process id.\n",
    "\n",
    "    Availability: Unix, Windows.\n",
    "    os.getppid()\n",
    "    Return the parent’s process id.\n",
    "\n",
    "    Availability: Unix.\n",
    "    os.getresuid()\n",
    "    Return a tuple (ruid, euid, suid) denoting the current process’s real, effective, and saved user ids.\n",
    "\n",
    "    Availability: Unix.\n",
    "\n",
    "\n",
    "    New in version 2.7.\n",
    "    os.getresgid()\n",
    "    Return a tuple (rgid, egid, sgid) denoting the current process’s real, effective, and saved group ids.\n",
    "\n",
    "    Availability: Unix.\n",
    "\n",
    "\n",
    "    New in version 2.7.\n",
    "    os.getuid()\n",
    "    Return the current process’s real user id.\n",
    "\n",
    "    Availability: Unix.\n",
    "    os.getenv(varname[, value])\n",
    "    Return the value of the environment variable varname if it exists, or value if it doesn’t. value defaults to None.\n",
    "\n",
    "    Availability: most flavors of Unix, Windows.\n",
    "    os.putenv(varname, value)\n",
    "    Set the environment variable named varname to the string value. Such changes to the environment affect subprocesses started with os.system(), popen() or fork() and execv().\n",
    "\n",
    "    Availability: most flavors of Unix, Windows.\n",
    "    \"\"\"\n",
    "    with open(os.path.join(dir_path, 'task_2.1_source_6'), 'w') as f:\n",
    "        f.write(text)"
   ]
  },
  {
   "cell_type": "code",
   "execution_count": 23,
   "metadata": {
    "collapsed": true
   },
   "outputs": [],
   "source": [
    "# вызываем функцию в Window\n",
    "create_file('test1/test2/')"
   ]
  },
  {
   "cell_type": "code",
   "execution_count": 24,
   "metadata": {
    "collapsed": false
   },
   "outputs": [
    {
     "name": "stdout",
     "output_type": "stream",
     "text": [
      " Том в устройстве C имеет метку OSDisk\n",
      " Серийный номер тома: 34E1-B0E9\n",
      "\n",
      " Содержимое папки C:\\Users\\yapermin\\My_Python\\ДЗ4\\test1\\test2\n",
      "\n",
      "11.06.2017  10:57    <DIR>          .\n",
      "11.06.2017  10:57    <DIR>          ..\n",
      "11.06.2017  11:00             1 297 task_2.1_source_1\n",
      "11.06.2017  11:00               663 task_2.1_source_2\n",
      "11.06.2017  11:00               827 task_2.1_source_3\n",
      "11.06.2017  11:00             1 073 task_2.1_source_4\n",
      "11.06.2017  11:00             1 061 task_2.1_source_5\n",
      "11.06.2017  11:00             1 996 task_2.1_source_6\n",
      "11.06.2017  10:24    <DIR>          test3\n",
      "               6 файлов          6 917 байт\n",
      "               3 папок  261 348 986 880 байт свободно\n"
     ]
    }
   ],
   "source": [
    "# выводим содержимоее папки назначения в Windows\n",
    "list_dir = !dir test1\\test2\\\n",
    "\n",
    "for i in list_dir:\n",
    "    print i.decode('IBM866')"
   ]
  },
  {
   "cell_type": "code",
   "execution_count": 25,
   "metadata": {
    "collapsed": false
   },
   "outputs": [],
   "source": [
    "import os\n",
    "    \n",
    "def get_dir_content_info(dir_path):\n",
    "    desc_dir = os.listdir(dir_path)\n",
    "    dir_file_dict = dict()\n",
    "    dir_file_list = list()\n",
    "    for elem in desc_dir:\n",
    "        if os.path.isfile(os.path.join(dir_path, elem)):\n",
    "            dir_file_list.append(os.stat(os.path.join(dir_path, elem))[6])\n",
    "            dir_file_dict[elem] = os.stat(os.path.join(dir_path, elem))[6]\n",
    "    dir_file_list = sorted(dir_file_list, reverse=1)\n",
    "                 \n",
    "    print 'В директории \"' + dir_path + '\" находится ' + str(len(dir_file_list)) + ' файлов, отсориторанные по размеру:'    \n",
    "    for elem in dir_file_list:\n",
    "        for fname in sorted(dir_file_dict):\n",
    "            if elem==dir_file_dict[fname]:\n",
    "                print fname + ' Размер (в байтах): ' + str(elem)\n",
    "                dir_file_dict.pop(fname)\n",
    "    return"
   ]
  },
  {
   "cell_type": "code",
   "execution_count": 26,
   "metadata": {
    "collapsed": false
   },
   "outputs": [
    {
     "name": "stdout",
     "output_type": "stream",
     "text": [
      "В директории \"test1/test2/\" находится 6 файлов, отсориторанные по размеру:\n",
      "task_2.1_source_6 Размер (в байтах): 1996\n",
      "task_2.1_source_1 Размер (в байтах): 1297\n",
      "task_2.1_source_4 Размер (в байтах): 1073\n",
      "task_2.1_source_5 Размер (в байтах): 1061\n",
      "task_2.1_source_3 Размер (в байтах): 827\n",
      "task_2.1_source_2 Размер (в байтах): 663\n"
     ]
    }
   ],
   "source": [
    "# вызываем функцию в Window\n",
    "get_dir_content_info('test1/test2/')"
   ]
  },
  {
   "cell_type": "markdown",
   "metadata": {},
   "source": [
    "## Задание 2.2\n",
    "\n",
    "Аналогично 1.2, но только теперь англо-русский в русско-английский словарь. Дополнительно теперь будет ещё параметр encoding для кодировки файлов. Если он None, то нужно самостоятельно определить кодировку файла.\n",
    "\n",
    "##### Решение будет почти дублировать 1.2, но сначала текст нужно привести в unicode"
   ]
  },
  {
   "cell_type": "code",
   "execution_count": null,
   "metadata": {
    "collapsed": true
   },
   "outputs": [],
   "source": [
    "def eng_rus_2_rus_eng(source_path, target_path, encoding=None):\n",
    "    # Допишите код\n",
    "    return"
   ]
  },
  {
   "cell_type": "markdown",
   "metadata": {},
   "source": [
    "# Сложный уровень"
   ]
  },
  {
   "cell_type": "markdown",
   "metadata": {},
   "source": [
    "## Задание 3.1\n",
    "\n",
    "Существует исследование, говорящее о том, что в словах текста можно произвольно переставить буквы (не затрагивая первую и последнюю), и от этого читабельность текста практически не ухудшится. Напишите функцию для проверки этого факта. Ваша функция должна получать на вход какой-нибудь текст (может быть и на русском языке) и переставлять буквы в его словах случайным образом. \n",
    "\n",
    "Если seed None, то буквы переставляются не случайным образом, а сортируются по алфавиту (латинские символы считаем меньше кириллических). Если seed не None, то нужно использовать это seed при инициализации рандома. Сравните результаты.\n",
    "\n",
    "##### будем считать, что текст это последовательность кириллических и латинских символов разделённая пробелом\n",
    "##### вам потребуется модуль random и функции random.seed и random.shuffle\n",
    "##### проверьте результат работы на не юникодовских строчках и объясните результат"
   ]
  },
  {
   "cell_type": "code",
   "execution_count": null,
   "metadata": {
    "collapsed": true
   },
   "outputs": [],
   "source": [
    "def text_shuffle(text, seed=None):\n",
    "    # Допишите код\n",
    "    return"
   ]
  },
  {
   "cell_type": "markdown",
   "metadata": {},
   "source": [
    "## Задание 3.2\n",
    "\n",
    "Напишите функцию, которая читает два файла построчно (то есть не загружая всё содержимое в память), и записывает в выходной файл результат лексиграфического сравнение срочки из первого файла и из второго (First, Second и Equal по аналогии c предыдущим ДЗ)."
   ]
  },
  {
   "cell_type": "code",
   "execution_count": null,
   "metadata": {
    "collapsed": true
   },
   "outputs": [],
   "source": [
    "def process(fst_source_path, snd_source_path, target_path):\n",
    "    # Допишите код\n",
    "    return"
   ]
  },
  {
   "cell_type": "code",
   "execution_count": null,
   "metadata": {
    "collapsed": true
   },
   "outputs": [],
   "source": []
  }
 ],
 "metadata": {
  "anaconda-cloud": {},
  "kernelspec": {
   "display_name": "Python 2",
   "language": "python",
   "name": "python2"
  },
  "language_info": {
   "codemirror_mode": {
    "name": "ipython",
    "version": 2
   },
   "file_extension": ".py",
   "mimetype": "text/x-python",
   "name": "python",
   "nbconvert_exporter": "python",
   "pygments_lexer": "ipython2",
   "version": "2.7.13"
  }
 },
 "nbformat": 4,
 "nbformat_minor": 2
}
